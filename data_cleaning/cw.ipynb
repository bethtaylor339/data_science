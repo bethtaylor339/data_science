{
 "cells": [
  {
   "attachments": {},
   "cell_type": "markdown",
   "metadata": {},
   "source": [
    "## Section 1- Data Cleaning"
   ]
  },
  {
   "cell_type": "code",
   "execution_count": null,
   "metadata": {},
   "outputs": [],
   "source": [
    "#Importing libraries\n",
    "import pandas as pd\n",
    "import seaborn as sns\n",
    "import matplotlib.pyplot as plt\n"
   ]
  },
  {
   "cell_type": "code",
   "execution_count": null,
   "metadata": {},
   "outputs": [],
   "source": [
    "#Importing datasets\n",
    "od1 = pd.read_excel('od1.xlsx', engine = 'openpyxl')\n",
    "od2 = pd.read_excel('od2.xlsx', engine = 'openpyxl')\n",
    "os = pd.read_excel('os.xlsx', engine = 'openpyxl')"
   ]
  },
  {
   "attachments": {},
   "cell_type": "markdown",
   "metadata": {},
   "source": [
    "Problem 1- merge od1.xlsx and \n",
    "od2.xlsx into a new file called “od.xlsx”. The file “od.xlsx” should have the same structure as \n",
    "“os.xlsx”."
   ]
  },
  {
   "cell_type": "code",
   "execution_count": null,
   "metadata": {},
   "outputs": [],
   "source": [
    "#Merging datasets and sorting by ID\n",
    "merged =pd.merge(od1, od2, how ='left', on=['dioptre_1', 'dioptre_2', 'Pachymetry', 'astigmatism', 'Diagnosis'])\n",
    "sorted = merged.sort_values(by = [\"ID\"])"
   ]
  },
  {
   "cell_type": "code",
   "execution_count": null,
   "metadata": {},
   "outputs": [],
   "source": [
    "#Creating Sub-columns\n",
    "def add_top_column(df, top_col, inplace=False):\n",
    "    df.columns = pd.MultiIndex.from_product([[top_col], df.columns])\n",
    "    return df\n",
    "ID = sorted[\"ID\"]\n",
    "ID = pd.DataFrame(ID)\n",
    "ID = add_top_column(ID, \"\")\n",
    "Age = sorted[\"Age\"]\n",
    "Age = pd.DataFrame(Age)\n",
    "Age = add_top_column(Age, \"Age\")\n",
    "Gender = sorted[\"Gender\"]\n",
    "Gender = pd.DataFrame(Gender)\n",
    "Gender = add_top_column(Gender, \"Gender\")\n",
    "Diagnosis = sorted[\"Diagnosis\"]\n",
    "Diagnosis = pd.DataFrame(Diagnosis)\n",
    "Diagnosis = add_top_column(Diagnosis, \"Diagnosis\")\n",
    "Refractive_Defect = sorted[[\"dioptre_1\", \"dioptre_2\", \"astigmatism\"]]\n",
    "Refractive_Defect = pd.DataFrame(Refractive_Defect)\n",
    "Refractive_Defect = add_top_column(Refractive_Defect, \"Refractive_Defect\")\n",
    "PhakicPseudophakic = sorted[\"Phakic/Pseudophakic\"]\n",
    "PhakicPseudophakic = pd.DataFrame(PhakicPseudophakic)\n",
    "PhakicPseudophakic = add_top_column(PhakicPseudophakic, \"Phakic/Pseudophakic\")\n",
    "IOP = sorted[[\"Pneumatic\",\"Perkins\"]]\n",
    "IOP = pd.DataFrame(IOP)\n",
    "IOP = add_top_column(IOP, \"IOP\")\n",
    "Pachymetry = sorted[\"Pachymetry\"]\n",
    "Pachymetry = pd.DataFrame(Pachymetry)\n",
    "Pachymetry = add_top_column(Pachymetry, \"Pachymetry\")\n",
    "Axial_Length = sorted[\"Axial_Length\"]\n",
    "Axial_Length = pd.DataFrame(Axial_Length)\n",
    "Axial_Length = add_top_column(Axial_Length, \"Axial_Length\")\n",
    "VF_MD = sorted[\"VF_MD\"]\n",
    "VF_MD = pd.DataFrame(VF_MD)\n",
    "VF_MD = add_top_column(VF_MD, \"VF_MD\")\n",
    "df_formatted = pd.concat([ID, Age, Gender, Diagnosis, Refractive_Defect, PhakicPseudophakic, IOP, Pachymetry,Axial_Length, VF_MD ], axis=1)\n",
    "df_formatted.to_excel(\"od.xlsx\")"
   ]
  },
  {
   "attachments": {},
   "cell_type": "markdown",
   "metadata": {},
   "source": [
    "## Problem 2- Data cleaning both od & os"
   ]
  },
  {
   "cell_type": "code",
   "execution_count": null,
   "metadata": {},
   "outputs": [],
   "source": [
    "od_clean = df_formatted.copy(deep=True)\n",
    "os_clean = os.copy(deep=True)"
   ]
  },
  {
   "cell_type": "code",
   "execution_count": null,
   "metadata": {},
   "outputs": [],
   "source": [
    "#Changing format of OS to match\n",
    "tuples = [('', 'ID'), ('Age', 'Age'), ('Gender', 'Gender'), ('Diagnosis', 'Diagnosis'),\n",
    "          ('Refractive_Defect', 'dioptre_1'), ('Refractive_Defect', 'dioptre_2'),\n",
    "          ('Refractive_Defect', 'astigmatism'), ('Phakic/Pseudophakic', 'Phakic/Pseudophakic'),\n",
    "          ('IOP', 'Pneumatic'), ('IOP', 'Perkins'), ('Pachymetry', 'Pachymetry'),\n",
    "          ('Axial_Length', 'Axial_Length'), ('VF_MD', 'VF_MD')]\n",
    "multi_index = pd.MultiIndex.from_tuples(tuples)\n",
    "os_clean.columns = multi_index"
   ]
  },
  {
   "cell_type": "code",
   "execution_count": null,
   "metadata": {},
   "outputs": [],
   "source": [
    "#Removing subcolumns for both datasets\n",
    "def rename_subcolumns(subcols):\n",
    "    if subcols[0] == subcols[1]:\n",
    "        return subcols[0].lower()\n",
    "    else:\n",
    "        return \"_\".join(subcols).lower()\n",
    "\n",
    "od_clean.columns = od_clean.columns.map(rename_subcolumns)\n",
    "os_clean.columns = os_clean.columns.map(rename_subcolumns)\n",
    "os_clean = os_clean.drop(index=0)"
   ]
  },
  {
   "cell_type": "code",
   "execution_count": null,
   "metadata": {},
   "outputs": [],
   "source": [
    "#OD--- Checking column Dtypes\n",
    "for column in od_clean.columns:\n",
    "    od_clean_col = od_clean[column]\n",
    "    column_dtype = od_clean_col.dtypes\n",
    "    print(column_dtype)"
   ]
  },
  {
   "cell_type": "code",
   "execution_count": null,
   "metadata": {},
   "outputs": [],
   "source": [
    "#OS--- Checking column Dtypes\n",
    "for column in os_clean.columns:\n",
    "    os_clean_col = os_clean[column]\n",
    "    column_dtype = os_clean_col.dtypes\n",
    "    print(column_dtype)"
   ]
  },
  {
   "cell_type": "code",
   "execution_count": null,
   "metadata": {},
   "outputs": [],
   "source": [
    "#OS--- Changing some to numeric\n",
    "num_cols = ['age', 'refractive_defect_dioptre_1', 'refractive_defect_dioptre_2', 'refractive_defect_astigmatism', 'iop_pneumatic', 'iop_perkins', 'pachymetry', 'axial_length', 'vf_md']\n",
    "os_clean[num_cols] = os_clean[num_cols].apply(pd.to_numeric, errors='coerce')"
   ]
  },
  {
   "cell_type": "code",
   "execution_count": null,
   "metadata": {},
   "outputs": [],
   "source": [
    "#OS--- Checking dtypes are correct now\n",
    "for column in os_clean.columns:\n",
    "    os_clean_col = os_clean[column]\n",
    "    column_dtype = os_clean_col.dtype\n",
    "    print(column_dtype)"
   ]
  },
  {
   "cell_type": "code",
   "execution_count": null,
   "metadata": {},
   "outputs": [],
   "source": [
    "#OS--- Observing stats for each column\n",
    "for column in os_clean.columns:\n",
    "  os_clean_col = os_clean[column]\n",
    "  if os_clean_col.dtype in (int, float):\n",
    "        column_min = min(os_clean[column])\n",
    "        column_max = max(os_clean[column])\n",
    "        print(f\"Selected column: {column}\")\n",
    "        print(f\"Minimum value: {column_min}\")\n",
    "        print(f\"Maximum value: {column_max}\")\n",
    "        os_clean_col = os_clean[column]\n",
    "        column_dtype = os_clean_col.dtype\n",
    "        column_nas = os_clean_col.isna().sum()\n",
    "        column_unique = len(os_clean_col.unique())\n",
    "        print(f\"Data type: {column_dtype}\")\n",
    "        print(f\"Number of NaNs: {column_nas}\")\n",
    "        print(f\"Number of uniques: {column_unique}\")\n",
    "        print(\"\")\n",
    "  else:\n",
    "        print(f\"Selected column: {column}\")\n",
    "        print(\"Non-numeric\")\n",
    "        os_clean_col = os_clean[column]\n",
    "        column_dtype = os_clean_col.dtypes\n",
    "        column_nas = os_clean_col.isna().sum()\n",
    "        column_unique = len(os_clean_col.unique())\n",
    "        print(f\"Data type: {column_dtype}\")\n",
    "        print(f\"Number of NaNs: {column_nas}\")\n",
    "        print(f\"Number of uniques: {column_unique}\")\n",
    "        print(\"\")"
   ]
  },
  {
   "cell_type": "code",
   "execution_count": null,
   "metadata": {},
   "outputs": [],
   "source": [
    "#OD--- Observing stats for each column\n",
    "for column in od_clean.columns:\n",
    "  od_clean_col = od_clean[column]\n",
    "\n",
    "  if od_clean_col.dtype in (int, float):\n",
    "        column_min = min(od_clean[column])\n",
    "        column_max = max(od_clean[column])\n",
    "        print(f\"Selected column: {column}\")\n",
    "        print(f\"Minimum value: {column_min}\")\n",
    "        print(f\"Maximum value: {column_max}\")\n",
    "        od_clean_col = od_clean[column]\n",
    "        column_dtype = od_clean_col.dtype\n",
    "        column_nas = od_clean_col.isna().sum()\n",
    "        column_unique = len(od_clean_col.unique())\n",
    "        print(f\"Data type: {column_dtype}\")\n",
    "        print(f\"Number of NaNs: {column_nas}\")\n",
    "        print(f\"Number of uniques: {column_unique}\")\n",
    "        print(\"\")\n",
    "  else:\n",
    "        print(f\"Selected column: {column}\")\n",
    "        print(\"Non-numeric\")\n",
    "        od_clean_col = od_clean[column]\n",
    "        column_dtype = od_clean_col.dtypes\n",
    "        column_nas = od_clean_col.isna().sum()\n",
    "        column_unique = len(od_clean_col.unique())\n",
    "        print(f\"Data type: {column_dtype}\")\n",
    "        print(f\"Number of NaNs: {column_nas}\")\n",
    "        print(f\"Number of uniques: {column_unique}\")\n",
    "        print(\"\")"
   ]
  },
  {
   "cell_type": "code",
   "execution_count": null,
   "metadata": {},
   "outputs": [],
   "source": [
    "#OD--- boxplots- identifying outliers\n",
    "for col in od_clean.columns:\n",
    "    if pd.api.types.is_numeric_dtype(od_clean[col]):\n",
    "        sns.boxplot(x=od_clean[col])\n",
    "        sns.set_style(\"whitegrid\")\n",
    "        sns.despine(left=True)\n",
    "        plt.title(col) \n",
    "        plt.show()"
   ]
  },
  {
   "cell_type": "code",
   "execution_count": null,
   "metadata": {},
   "outputs": [],
   "source": [
    "#OS--- boxplots- identifying outliers\n",
    "for col in os_clean.columns:\n",
    "    if pd.api.types.is_numeric_dtype(os_clean[col]):\n",
    "        sns.boxplot(x=os_clean[col])\n",
    "        sns.set_style(\"whitegrid\")\n",
    "        sns.despine(left=True)\n",
    "        plt.title(col) \n",
    "        plt.show() "
   ]
  },
  {
   "cell_type": "code",
   "execution_count": null,
   "metadata": {},
   "outputs": [],
   "source": [
    "#Saving revelant boxplots for report\n",
    "sns.boxplot(x=os_clean['refractive_defect_dioptre_2'], color='pink')\n",
    "sns.set_style(\"whitegrid\")\n",
    "sns.despine(left=True)\n",
    "plt.title('OS- Refractive Defect Dioptre 2 boxplot before removal of outliers') \n",
    "plt.savefig('OS_boxplot_before.png') \n",
    "\n",
    "sns.boxplot(x=od_clean['refractive_defect_dioptre_2'], color='pink')\n",
    "sns.set_style(\"whitegrid\")\n",
    "sns.despine(left=True)\n",
    "plt.title('OD- Refractive Defect Dioptre 2 boxplot before removal of outliers') \n",
    "plt.savefig('OD_boxplot_before.png') \n",
    "\n"
   ]
  },
  {
   "cell_type": "code",
   "execution_count": null,
   "metadata": {},
   "outputs": [],
   "source": [
    "#Removing outliers\n",
    "os_clean = os_clean.drop(os_clean[os_clean['refractive_defect_dioptre_2'] == -75].index)\n",
    "od_clean = od_clean.drop(od_clean[od_clean['refractive_defect_dioptre_2'] == -200].index)"
   ]
  },
  {
   "cell_type": "code",
   "execution_count": null,
   "metadata": {},
   "outputs": [],
   "source": [
    "#Saving revelant boxplots for report\n",
    "sns.boxplot(x=os_clean['refractive_defect_dioptre_2'], color='pink')\n",
    "sns.set_style(\"whitegrid\")\n",
    "sns.despine(left=True)\n",
    "plt.title('OS- Refractive Defect Dioptre 2 boxplot after removal of outliers') \n",
    "plt.savefig('OS_boxplot_after.png') \n",
    "\n",
    "sns.boxplot(x=od_clean['refractive_defect_dioptre_2'], color='pink')\n",
    "sns.set_style(\"whitegrid\")\n",
    "sns.despine(left=True)\n",
    "plt.title('OD- Refractive Defect Dioptre 2 boxplot after removal of outliers') \n",
    "plt.savefig('OD_boxplot_after.png') \n"
   ]
  },
  {
   "cell_type": "code",
   "execution_count": null,
   "metadata": {},
   "outputs": [],
   "source": [
    "#Filling Na's\n",
    "columns_to_fill = {\n",
    "    'refractive_defect_dioptre_1': {'fill_method': 'mean', 'round_to': 0.25},\n",
    "    'refractive_defect_dioptre_2': {'fill_method': 'mean', 'round_to': 0.25},\n",
    "    'refractive_defect_astigmatism': {'fill_method': 'mean', 'round_to': 1},\n",
    "    'phakic/pseudophakic': {'fill_method': 'mode', 'round_to': None},\n",
    "    'iop_pneumatic': {'fill_method': 'mean', 'round_to': 1},\n",
    "    'pachymetry': {'fill_method': 'mean', 'round_to': 1},\n",
    "    'axial_length': {'fill_method': 'constant', 'fill_value': 26, 'round_to': None},\n",
    "}\n",
    "\n",
    "for col_name, col_info in columns_to_fill.items():\n",
    "    if col_info['fill_method'] == 'mean':\n",
    "        mean_val = round(od_clean[col_name].mean()/col_info['round_to'])*col_info['round_to'] \n",
    "        od_clean[col_name].fillna(mean_val, inplace=True)\n",
    "    elif col_info['fill_method'] == 'mode':\n",
    "        mode_val = od_clean[col_name].mode().iloc[0]\n",
    "        od_clean[col_name].fillna(mode_val, inplace=True)\n",
    "    elif col_info['fill_method'] == 'constant':\n",
    "        od_clean[col_name].fillna(col_info['fill_value'], inplace=True)\n",
    "    if col_info['round_to'] is not None:\n",
    "        od_clean[col_name] = round(od_clean[col_name] / col_info['round_to']) * col_info['round_to']\n",
    "\n",
    "for col_name, col_info in columns_to_fill.items():\n",
    "    if col_info['fill_method'] == 'mean':\n",
    "        mean_val = round(os_clean[col_name].mean()/col_info['round_to'])*col_info['round_to'] \n",
    "        os_clean[col_name].fillna(mean_val, inplace=True)\n",
    "    elif col_info['fill_method'] == 'mode':\n",
    "        mode_val = os_clean[col_name].mode().iloc[0]\n",
    "        os_clean[col_name].fillna(mode_val, inplace=True)\n",
    "    elif col_info['fill_method'] == 'constant':\n",
    "        os_clean[col_name].fillna(col_info['fill_value'], inplace=True)\n",
    "    if col_info['round_to'] is not None:\n",
    "        os_clean[col_name] = round(od_clean[col_name] / col_info['round_to']) * col_info['round_to']\n"
   ]
  },
  {
   "cell_type": "code",
   "execution_count": null,
   "metadata": {},
   "outputs": [],
   "source": [
    "#Confirming no duplicates\n",
    "duplicates = od_clean.duplicated()\n",
    "print(od_clean[duplicates == True])\n",
    "duplicates = os_clean.duplicated()\n",
    "print(os_clean[duplicates == True])"
   ]
  },
  {
   "cell_type": "code",
   "execution_count": null,
   "metadata": {},
   "outputs": [],
   "source": [
    "#Confirming all lower case\n",
    "od_clean['phakic/pseudophakic'] = od_clean['phakic/pseudophakic'].str.lower()\n",
    "os_clean['phakic/pseudophakic'] = os_clean['phakic/pseudophakic'].str.lower()\n",
    "od_clean['diagnosis'] = od_clean['diagnosis'].str.lower()\n",
    "os_clean['diagnosis'] = os_clean['diagnosis'].str.lower()\n",
    "od_clean['gender'] = od_clean['gender'].str.lower()\n",
    "os_clean['gender'] = os_clean['gender'].str.lower()"
   ]
  },
  {
   "cell_type": "code",
   "execution_count": null,
   "metadata": {},
   "outputs": [],
   "source": [
    "#Changing phakic/pseudophakic to actual names rather than sentences\n",
    "od_clean['phakic/pseudophakic'] = od_clean['phakic/pseudophakic'].replace({'crystalline lens has been removed ': 'pseudophakic', 'the eye keeps the lens':'phakic'})\n",
    "os_clean['phakic/pseudophakic'] = os_clean['phakic/pseudophakic'].replace({'crystalline lens has been removed ':'pseudophakic', 'the eye keeps the lens':'phakic'})\n",
    "os_clean['diagnosis'] = os_clean['diagnosis'].replace({'heal.':'healthy', 'glau.':'glaucoma'})"
   ]
  },
  {
   "cell_type": "code",
   "execution_count": null,
   "metadata": {},
   "outputs": [],
   "source": [
    "#Renaming columns\n",
    "od_clean = od_clean.rename(columns={'_id': 'ID', 'refractive_defect_dioptre_2': 'RD_dioptre2', 'refractive_defect_dioptre_1': 'RD_dioptre1', 'refractive_defect_astigmatism': 'RD_astigmatism'})\n",
    "os_clean = os_clean.rename(columns={'_id': 'ID', 'refractive_defect_dioptre_2': 'RD_dioptre2', 'refractive_defect_dioptre_1': 'RD_dioptre1', 'refractive_defect_astigmatism': 'RD_astigmatism'})"
   ]
  },
  {
   "cell_type": "code",
   "execution_count": null,
   "metadata": {},
   "outputs": [],
   "source": [
    "#Saving as excel spreadsheet\n",
    "os_clean.to_excel(\"os_clean.xlsx\")\n",
    "od_clean.to_excel(\"od_clean.xlsx\")"
   ]
  },
  {
   "attachments": {},
   "cell_type": "markdown",
   "metadata": {},
   "source": [
    "## Problem 3- Data Visualization"
   ]
  },
  {
   "cell_type": "code",
   "execution_count": null,
   "metadata": {},
   "outputs": [],
   "source": [
    "#Plotting hist of OD_clean columns on same plot as OS_columns\n",
    "dfs = [od_clean, os_clean]\n",
    "\n",
    "for df in dfs:\n",
    "    for col in df.columns:\n",
    "        plt.figure(figsize=(10, 6))\n",
    "        sns.histplot(data=df, x=col, hue='diagnosis', kde=True)\n",
    "     \n",
    "        other_df = os_clean if df.equals(od_clean) else od_clean\n",
    "        other_col = col\n",
    "        \n",
    "        sns.histplot(data=other_df, x=other_col, hue='diagnosis', kde=True, color='pink')\n",
    "        \n",
    "        plt.legend(title='Diagnosis', loc='upper right')\n",
    "        plt.title(f'{col} distribution for both datasets')\n",
    "        plt.show()\n",
    "\n"
   ]
  },
  {
   "cell_type": "code",
   "execution_count": null,
   "metadata": {},
   "outputs": [],
   "source": [
    "#Merging datasets & Creating dioptres_mean column to merged dataset.\n",
    "merged_data = pd.concat([od_clean, os_clean], axis=0)\n",
    "dioptres = pd.concat([merged_data['RD_dioptre1'], merged_data['RD_dioptre2']], axis=1)\n",
    "dioptres.columns = ['dioptre_1', 'dioptre_2']\n",
    "merged_data['dioptres_mean'] = dioptres.mean(axis=1)\n",
    "print(merged_data.columns)"
   ]
  },
  {
   "cell_type": "code",
   "execution_count": null,
   "metadata": {},
   "outputs": [],
   "source": [
    "#Pairplot of all columns.\n",
    "merged_data = merged_data.reset_index(drop=True)\n",
    "sns.pairplot(merged_data, hue='diagnosis')\n"
   ]
  },
  {
   "cell_type": "code",
   "execution_count": null,
   "metadata": {},
   "outputs": [],
   "source": [
    "#Diagnosis distribution\n",
    "sns.countplot(data=merged_data, x='diagnosis', color='pink')\n",
    "plt.title('Distribution of Diagnosis') \n",
    "plt.savefig(\"diagnosis_dist.png\")"
   ]
  },
  {
   "cell_type": "code",
   "execution_count": null,
   "metadata": {},
   "outputs": [],
   "source": [
    "#Histogram of columns against diagnosis\n",
    "for col in merged_data.columns:\n",
    "  if col != 'diagnosis':\n",
    "      subset = merged_data[['diagnosis', col]].dropna() \n",
    "      sns.histplot(data=subset, x=col, hue='diagnosis', kde=True)\n",
    "      plt.title(col) \n",
    "      plt.show() "
   ]
  },
  {
   "cell_type": "code",
   "execution_count": null,
   "metadata": {},
   "outputs": [],
   "source": [
    "#Swarm plot against diagnosis\n",
    "for col in merged_data.columns:\n",
    "  if pd.api.types.is_numeric_dtype(merged_data[col]) and col != 'diagnosis':\n",
    "    subset = merged_data[['diagnosis', col]].dropna() \n",
    "    sns.swarmplot(x='diagnosis', y=col, data=subset)\n",
    "    plt.title(col) \n",
    "    plt.show() \n"
   ]
  },
  {
   "cell_type": "code",
   "execution_count": null,
   "metadata": {},
   "outputs": [],
   "source": [
    "#Scatter plot against vf_md\n",
    "for col in merged_data.columns:\n",
    "  if col != 'diagnosis':\n",
    "    subset = merged_data[['diagnosis', col, 'vf_md']].dropna() \n",
    "    sns.scatterplot(data=merged_data, x=col, y='vf_md', hue='diagnosis')\n",
    "    plt.title(col) \n",
    "    plt.show() "
   ]
  },
  {
   "cell_type": "code",
   "execution_count": null,
   "metadata": {},
   "outputs": [],
   "source": [
    "#Heatmap to see what affects VF_MD\n",
    "corr_matrix = merged_data.corr()\n",
    "sns.heatmap(corr_matrix, cmap='coolwarm', center=0, annot=True)\n",
    "plt.title('Correlation Matrix Heatmap')\n",
    "plt.savefig('heatmap.png')"
   ]
  },
  {
   "cell_type": "code",
   "execution_count": null,
   "metadata": {},
   "outputs": [],
   "source": [
    "# Plotting graphs for report\n",
    "# Age swarm plot\n",
    "subset = merged_data[['diagnosis', 'age']].dropna() \n",
    "sns.swarmplot(x='diagnosis', y='age', data=subset, color='pink')\n",
    "plt.title('Age/Diagnosis swarm plot') \n",
    "plt.savefig('age_swarmplot.png') "
   ]
  },
  {
   "cell_type": "code",
   "execution_count": null,
   "metadata": {},
   "outputs": [],
   "source": [
    "#Phakic/pseudophakic distribution\n",
    "subset = merged_data[['diagnosis', 'phakic/pseudophakic']].dropna() \n",
    "sns.histplot(data=subset, x='phakic/pseudophakic', hue='diagnosis', kde=False)\n",
    "plt.title('Phakic/Pseudophakic distribution') \n",
    "plt.savefig('phakic_pseudophakic_dist.png') "
   ]
  },
  {
   "cell_type": "code",
   "execution_count": null,
   "metadata": {},
   "outputs": [],
   "source": [
    "#IOP_pneumatic distribution\n",
    "subset = merged_data[['diagnosis', 'iop_pneumatic']].dropna() \n",
    "sns.histplot(data=subset, x='iop_pneumatic', hue='diagnosis', kde=True)\n",
    "plt.title('IOP_pneumatic distribution') \n",
    "plt.savefig('IOP_pneumatic_dist.png') "
   ]
  },
  {
   "cell_type": "code",
   "execution_count": null,
   "metadata": {},
   "outputs": [],
   "source": [
    "#vf_md distribution\n",
    "subset = merged_data[['diagnosis', 'vf_md']].dropna() \n",
    "sns.histplot(data=subset, x='vf_md', hue='diagnosis', kde=True)\n",
    "plt.title('vf_md distribution') \n",
    "plt.savefig('vf_md_dist.png') "
   ]
  },
  {
   "cell_type": "code",
   "execution_count": null,
   "metadata": {},
   "outputs": [],
   "source": [
    "#Age vs vf_md scatterplot\n",
    "subset = merged_data[['diagnosis', 'age', 'vf_md']].dropna() \n",
    "sns.scatterplot(data=merged_data, x='age', y='vf_md', hue='diagnosis')\n",
    "plt.title('Age vs VF_MD scatterplot') \n",
    "plt.savefig('age_vf_md_scatter.png') "
   ]
  }
 ],
 "metadata": {
  "kernelspec": {
   "display_name": "Python 3",
   "language": "python",
   "name": "python3"
  },
  "language_info": {
   "codemirror_mode": {
    "name": "ipython",
    "version": 3
   },
   "file_extension": ".py",
   "mimetype": "text/x-python",
   "name": "python",
   "nbconvert_exporter": "python",
   "pygments_lexer": "ipython3",
   "version": "3.10.11"
  },
  "orig_nbformat": 4,
  "vscode": {
   "interpreter": {
    "hash": "4a4a32836cfcf09d0be1b60e3fed54fd94725d7f18611df689f0a2f723a72c4a"
   }
  }
 },
 "nbformat": 4,
 "nbformat_minor": 2
}
