{
 "cells": [
  {
   "attachments": {},
   "cell_type": "markdown",
   "metadata": {},
   "source": [
    "Section 1- Data Cleaning"
   ]
  },
  {
   "cell_type": "code",
   "execution_count": 361,
   "metadata": {},
   "outputs": [],
   "source": [
    "import pandas as pd\n",
    "import seaborn as sns"
   ]
  },
  {
   "cell_type": "code",
   "execution_count": 362,
   "metadata": {},
   "outputs": [],
   "source": [
    "#Importing datasets\n",
    "od1 = pd.read_excel('od1.xlsx', engine = 'openpyxl')\n",
    "od2 = pd.read_excel('od2.xlsx', engine = 'openpyxl')\n",
    "os = pd.read_excel('os.xlsx', engine = 'openpyxl')"
   ]
  },
  {
   "attachments": {},
   "cell_type": "markdown",
   "metadata": {},
   "source": [
    "Problem 1"
   ]
  },
  {
   "cell_type": "code",
   "execution_count": 363,
   "metadata": {},
   "outputs": [],
   "source": [
    "#Merging datasets and sorting by ID\n",
    "merged =pd.merge(od1, od2, how ='left', on=['dioptre_1', 'dioptre_2', 'Pachymetry', 'astigmatism', 'Diagnosis'])\n",
    "sorted = merged.sort_values(by = [\"ID\"])"
   ]
  },
  {
   "cell_type": "code",
   "execution_count": 364,
   "metadata": {},
   "outputs": [],
   "source": [
    "#Creating Sub-columns\n",
    "def add_top_column(df, top_col, inplace=False):\n",
    "    df.columns = pd.MultiIndex.from_product([[top_col], df.columns])\n",
    "    return df\n",
    "ID = sorted[\"ID\"]\n",
    "ID = pd.DataFrame(ID)\n",
    "ID = add_top_column(ID, \"\")\n",
    "Age = sorted[\"Age\"]\n",
    "Age = pd.DataFrame(Age)\n",
    "Age = add_top_column(Age, \"Age\")\n",
    "Gender = sorted[\"Gender\"]\n",
    "Gender = pd.DataFrame(Gender)\n",
    "Gender = add_top_column(Gender, \"Gender\")\n",
    "Diagnosis = sorted[\"Diagnosis\"]\n",
    "Diagnosis = pd.DataFrame(Diagnosis)\n",
    "Diagnosis = add_top_column(Diagnosis, \"Diagnosis\")\n",
    "Refractive_Defect = sorted[[\"dioptre_1\", \"dioptre_2\", \"astigmatism\"]]\n",
    "Refractive_Defect = pd.DataFrame(Refractive_Defect)\n",
    "Refractive_Defect = add_top_column(Refractive_Defect, \"Refractive_Defect\")\n",
    "PhakicPseudophakic = sorted[\"Phakic/Pseudophakic\"]\n",
    "PhakicPseudophakic = pd.DataFrame(PhakicPseudophakic)\n",
    "PhakicPseudophakic = add_top_column(PhakicPseudophakic, \"Phakic/Pseudophakic\")\n",
    "IOP = sorted[[\"Pneumatic\",\"Perkins\"]]\n",
    "IOP = pd.DataFrame(IOP)\n",
    "IOP = add_top_column(IOP, \"IOP\")\n",
    "Pachymetry = sorted[\"Pachymetry\"]\n",
    "Pachymetry = pd.DataFrame(Pachymetry)\n",
    "Pachymetry = add_top_column(Pachymetry, \"Pachymetry\")\n",
    "Axial_Length = sorted[\"Axial_Length\"]\n",
    "Axial_Length = pd.DataFrame(Axial_Length)\n",
    "Axial_Length = add_top_column(Axial_Length, \"Axial_Length\")\n",
    "VF_MD = sorted[\"VF_MD\"]\n",
    "VF_MD = pd.DataFrame(VF_MD)\n",
    "VF_MD = add_top_column(VF_MD, \"VF_MD\")\n",
    "df_formatted = pd.concat([ID, Age, Gender, Diagnosis, Refractive_Defect, PhakicPseudophakic, IOP, Pachymetry,Axial_Length, VF_MD ], axis=1)\n",
    "df_formatted.to_excel(\"df_formatted.xlsx\")"
   ]
  },
  {
   "attachments": {},
   "cell_type": "markdown",
   "metadata": {},
   "source": [
    "Problem 2"
   ]
  },
  {
   "cell_type": "code",
   "execution_count": 365,
   "metadata": {},
   "outputs": [],
   "source": [
    "#changing format of OS to match\n",
    "tuples = [('', 'ID'), ('Age', 'Age'), ('Gender', 'Gender'), ('Diagnosis', 'Diagnosis'),\n",
    "          ('Refractive_Defect', 'dioptre_1'), ('Refractive_Defect', 'dioptre_2'),\n",
    "          ('Refractive_Defect', 'astigmatism'), ('Phakic/Pseudophakic', 'Phakic/Pseudophakic'),\n",
    "          ('IOP', 'Pneumatic'), ('IOP', 'Perkins'), ('Pachymetry', 'Pachymetry'),\n",
    "          ('Axial_Length', 'Axial_Length'), ('VF_MD', 'VF_MD')]\n",
    "multi_index = pd.MultiIndex.from_tuples(tuples)\n",
    "os.columns = multi_index"
   ]
  },
  {
   "cell_type": "code",
   "execution_count": 366,
   "metadata": {},
   "outputs": [],
   "source": [
    "od_clean = df_formatted.copy(deep=True)\n",
    "os_clean = os.copy(deep=True)"
   ]
  },
  {
   "cell_type": "code",
   "execution_count": 367,
   "metadata": {},
   "outputs": [
    {
     "name": "stdout",
     "output_type": "stream",
     "text": [
      "      _id age  gender   diagnosis refractive_defect_dioptre_1  \\\n",
      "1    #002  47    male  suspicious                        -0.5   \n",
      "2    #004  58  female    glaucoma                         1.5   \n",
      "3    #005  89  female    glaucoma                        -0.5   \n",
      "4    #006  69    male  suspicious                           1   \n",
      "5    #007  22  female  suspicious                       -0.25   \n",
      "..    ...  ..     ...         ...                         ...   \n",
      "240  #289  64    male     healthY                        0.75   \n",
      "241  #290  75  female     healthy                        0.25   \n",
      "242  #291  55    male     healthy                         1.5   \n",
      "243  #292  56  female     healthy                        1.25   \n",
      "244  #293  39  female     healthy                       -0.75   \n",
      "\n",
      "    refractive_defect_dioptre_2 refractive_defect_astigmatism  \\\n",
      "1                          -1.5                            88   \n",
      "2                          -2.5                            85   \n",
      "3                            -2                           100   \n",
      "4                          -1.5                            85   \n",
      "5                          -0.5                             0   \n",
      "..                          ...                           ...   \n",
      "240                        -1.5                            93   \n",
      "241                       -0.25                           160   \n",
      "242                       -1.25                            76   \n",
      "243                       -0.75                            79   \n",
      "244                       -0.25                           110   \n",
      "\n",
      "                    phakic/pseudophakic iop_pneumatic iop_perkins pachymetry  \\\n",
      "1                the eye keeps the lens            20         NaN        603   \n",
      "2    crystalline lens has been removed            NaN          19        511   \n",
      "3    crystalline lens has been removed             24          10        575   \n",
      "4                the eye keeps the lens            22         NaN        593   \n",
      "5                the eye keeps the lens            13         NaN        NaN   \n",
      "..                                  ...           ...         ...        ...   \n",
      "240  crystalline lens has been removed             10         NaN        531   \n",
      "241  crystalline lens has been removed             19         NaN        573   \n",
      "242              the eye keeps the lens            14         NaN        443   \n",
      "243              the eye keeps the lens             9         NaN        479   \n",
      "244              the eye keeps the lens            14         NaN        468   \n",
      "\n",
      "    axial_length vf_md  \n",
      "1          23.77  0.17  \n",
      "2          22.96 -6.77  \n",
      "3          24.33 -7.44  \n",
      "4          26.21 -3.31  \n",
      "5          23.35 -2.61  \n",
      "..           ...   ...  \n",
      "240        22.31   NaN  \n",
      "241        22.01   NaN  \n",
      "242        23.51   NaN  \n",
      "243        23.84   NaN  \n",
      "244           24   NaN  \n",
      "\n",
      "[244 rows x 13 columns]\n"
     ]
    }
   ],
   "source": [
    "#removing subcolumns for both datasets\n",
    "def rename_subcolumns(subcols):\n",
    "    if subcols[0] == subcols[1]:\n",
    "        return subcols[0].lower()\n",
    "    else:\n",
    "        return \"_\".join(subcols).lower()\n",
    "\n",
    "od_clean.columns = od_clean.columns.map(rename_subcolumns)\n",
    "os_clean.columns = os_clean.columns.map(rename_subcolumns)\n",
    "os_clean = os_clean.drop(index=0)"
   ]
  },
  {
   "cell_type": "code",
   "execution_count": 377,
   "metadata": {},
   "outputs": [
    {
     "name": "stdout",
     "output_type": "stream",
     "text": [
      "Selected column: _id\n",
      "Data type: object\n",
      "Number of NaNs: 0\n",
      "Number of uniques: 244\n",
      "Minimum: #002\n",
      "Maximum: #293\n",
      "\n",
      "Selected column: age\n",
      "Data type: int64\n",
      "Number of NaNs: 0\n",
      "Number of uniques: 53\n",
      "Minimum: 15\n",
      "Maximum: 90\n",
      "\n",
      "Selected column: gender\n",
      "Data type: object\n",
      "Number of NaNs: 0\n",
      "Number of uniques: 2\n",
      "Minimum: female\n",
      "Maximum: male\n",
      "\n",
      "Selected column: diagnosis\n",
      "Data type: object\n",
      "Number of NaNs: 0\n",
      "Number of uniques: 3\n",
      "Minimum: glaucoma\n",
      "Maximum: suspicious\n",
      "\n",
      "Selected column: refractive_defect_dioptre_1\n",
      "Data type: float64\n",
      "Number of NaNs: 15\n",
      "Number of uniques: 43\n",
      "Minimum: -6.5\n",
      "Maximum: 6.0\n",
      "\n",
      "Selected column: refractive_defect_dioptre_2\n",
      "Data type: float64\n",
      "Number of NaNs: 3\n",
      "Number of uniques: 21\n",
      "Minimum: -200.0\n",
      "Maximum: 0.5\n",
      "\n",
      "Selected column: refractive_defect_astigmatism\n",
      "Data type: float64\n",
      "Number of NaNs: 4\n",
      "Number of uniques: 98\n",
      "Minimum: -1.0\n",
      "Maximum: 180.0\n",
      "\n"
     ]
    },
    {
     "ename": "TypeError",
     "evalue": "'<' not supported between instances of 'float' and 'str'",
     "output_type": "error",
     "traceback": [
      "\u001b[1;31m---------------------------------------------------------------------------\u001b[0m",
      "\u001b[1;31mTypeError\u001b[0m                                 Traceback (most recent call last)",
      "Cell \u001b[1;32mIn[377], line 6\u001b[0m\n\u001b[0;32m      4\u001b[0m column_nas \u001b[39m=\u001b[39m od_clean_col\u001b[39m.\u001b[39misna()\u001b[39m.\u001b[39msum()\n\u001b[0;32m      5\u001b[0m column_unique \u001b[39m=\u001b[39m \u001b[39mlen\u001b[39m(od_clean_col\u001b[39m.\u001b[39munique())\n\u001b[1;32m----> 6\u001b[0m column_min \u001b[39m=\u001b[39m \u001b[39mmin\u001b[39;49m(od_clean[column])\n\u001b[0;32m      7\u001b[0m column_max \u001b[39m=\u001b[39m \u001b[39mmax\u001b[39m(od_clean[column])\n\u001b[0;32m      8\u001b[0m \u001b[39mprint\u001b[39m(\u001b[39mf\u001b[39m\u001b[39m\"\u001b[39m\u001b[39mSelected column: \u001b[39m\u001b[39m{\u001b[39;00mcolumn\u001b[39m}\u001b[39;00m\u001b[39m\"\u001b[39m)\n",
      "\u001b[1;31mTypeError\u001b[0m: '<' not supported between instances of 'float' and 'str'"
     ]
    }
   ],
   "source": [
    "for column in od_clean.columns:\n",
    "  od_clean_col = od_clean[column]\n",
    "  column_dtype = od_clean_col.dtypes\n",
    "  column_nas = od_clean_col.isna().sum()\n",
    "  column_unique = len(od_clean_col.unique())\n",
    "  column_min = min(od_clean[column])\n",
    "  column_max = max(od_clean[column])\n",
    "  print(f\"Selected column: {column}\")\n",
    "  print(f\"Data type: {column_dtype}\")\n",
    "  print(f\"Number of NaNs: {column_nas}\")\n",
    "  print(f\"Number of uniques: {column_unique}\")\n",
    "  print(f\"Minimum: {column_min}\")\n",
    "  print(f\"Maximum: {column_max}\")\n",
    "  print()"
   ]
  },
  {
   "cell_type": "code",
   "execution_count": 380,
   "metadata": {},
   "outputs": [
    {
     "name": "stdout",
     "output_type": "stream",
     "text": [
      "Selected column: _id\n",
      "Data type: object\n",
      "Number of NaNs: 0\n",
      "Column is not numeric\n",
      "\n",
      "Selected column: age\n",
      "Data type: object\n",
      "Number of NaNs: 0\n",
      "Column is not numeric\n",
      "\n",
      "Selected column: gender\n",
      "Data type: object\n",
      "Number of NaNs: 0\n",
      "Column is not numeric\n",
      "\n",
      "Selected column: diagnosis\n",
      "Data type: object\n",
      "Number of NaNs: 0\n",
      "Column is not numeric\n",
      "\n",
      "Selected column: refractive_defect_dioptre_1\n",
      "Data type: object\n",
      "Number of NaNs: 12\n",
      "Column is not numeric\n",
      "\n",
      "Selected column: refractive_defect_dioptre_2\n",
      "Data type: object\n",
      "Number of NaNs: 5\n",
      "Column is not numeric\n",
      "\n",
      "Selected column: refractive_defect_astigmatism\n",
      "Data type: object\n",
      "Number of NaNs: 5\n",
      "Column is not numeric\n",
      "\n",
      "Selected column: phakic/pseudophakic\n",
      "Data type: object\n",
      "Number of NaNs: 6\n",
      "Column is not numeric\n",
      "\n",
      "Selected column: iop_pneumatic\n",
      "Data type: object\n",
      "Number of NaNs: 45\n",
      "Column is not numeric\n",
      "\n",
      "Selected column: iop_perkins\n",
      "Data type: object\n",
      "Number of NaNs: 180\n",
      "Column is not numeric\n",
      "\n",
      "Selected column: pachymetry\n",
      "Data type: object\n",
      "Number of NaNs: 7\n",
      "Column is not numeric\n",
      "\n",
      "Selected column: axial_length\n",
      "Data type: object\n",
      "Number of NaNs: 4\n",
      "Column is not numeric\n",
      "\n",
      "Selected column: vf_md\n",
      "Data type: object\n",
      "Number of NaNs: 162\n",
      "Column is not numeric\n",
      "\n"
     ]
    }
   ],
   "source": [
    "for column in os_clean.columns:\n",
    "    os_clean_col = os_clean[column]\n",
    "    column_dtype = os_clean_col.dtypes\n",
    "    column_nas = os_clean_col.isna().sum()\n",
    "    \n",
    "    if pd.api.types.is_numeric_dtype(os_clean_col):\n",
    "        # Find the minimum and maximum values of the numeric column\n",
    "        column_min = os_clean_col.min()\n",
    "        column_max = os_clean_col.max()\n",
    "        \n",
    "        print(f\"Selected column: {column}\")\n",
    "        print(f\"Data type: {column_dtype}\")\n",
    "        print(f\"Number of NaNs: {column_nas}\")\n",
    "        print(f\"Minimum: {column_min}\")\n",
    "        print(f\"Maximum: {column_max}\")\n",
    "        print()\n",
    "    else:\n",
    "        print(f\"Selected column: {column}\")\n",
    "        print(f\"Data type: {column_dtype}\")\n",
    "        print(f\"Number of NaNs: {column_nas}\")\n",
    "        print(\"Column is not numeric\")\n",
    "        print()\n"
   ]
  },
  {
   "cell_type": "code",
   "execution_count": 379,
   "metadata": {},
   "outputs": [
    {
     "name": "stdout",
     "output_type": "stream",
     "text": [
      "Selected column: _id\n",
      "Data type: object\n",
      "Number of NaNs: 0\n",
      "Minimum: #002\n",
      "Maximum: #293\n",
      "\n",
      "Selected column: age\n",
      "Data type: object\n",
      "Number of NaNs: 0\n",
      "Minimum: 15\n",
      "Maximum: 90\n",
      "\n",
      "Selected column: gender\n",
      "Data type: object\n",
      "Number of NaNs: 0\n",
      "Minimum: female\n",
      "Maximum: male\n",
      "\n",
      "Selected column: diagnosis\n",
      "Data type: object\n",
      "Number of NaNs: 0\n",
      "Minimum: Glaucoma\n",
      "Maximum: suspicious\n",
      "\n",
      "Selected column: refractive_defect_dioptre_1\n",
      "Data type: object\n",
      "Number of NaNs: 12\n",
      "Minimum: -8\n",
      "Maximum: 11.25\n",
      "\n",
      "Selected column: refractive_defect_dioptre_2\n",
      "Data type: object\n",
      "Number of NaNs: 5\n",
      "Minimum: -75\n",
      "Maximum: 2\n",
      "\n",
      "Selected column: refractive_defect_astigmatism\n",
      "Data type: object\n",
      "Number of NaNs: 5\n",
      "Minimum: 0\n",
      "Maximum: 180\n",
      "\n"
     ]
    },
    {
     "ename": "TypeError",
     "evalue": "'<' not supported between instances of 'float' and 'str'",
     "output_type": "error",
     "traceback": [
      "\u001b[1;31m---------------------------------------------------------------------------\u001b[0m",
      "\u001b[1;31mTypeError\u001b[0m                                 Traceback (most recent call last)",
      "Cell \u001b[1;32mIn[379], line 5\u001b[0m\n\u001b[0;32m      3\u001b[0m column_dtype \u001b[39m=\u001b[39m os_clean_col\u001b[39m.\u001b[39mdtypes\n\u001b[0;32m      4\u001b[0m column_nas \u001b[39m=\u001b[39m os_clean_col\u001b[39m.\u001b[39misna()\u001b[39m.\u001b[39msum()\n\u001b[1;32m----> 5\u001b[0m column_min \u001b[39m=\u001b[39m \u001b[39mmin\u001b[39;49m(os_clean_col)\n\u001b[0;32m      6\u001b[0m column_max \u001b[39m=\u001b[39m \u001b[39mmax\u001b[39m(os_clean_col)\n\u001b[0;32m      7\u001b[0m \u001b[39mprint\u001b[39m(\u001b[39mf\u001b[39m\u001b[39m\"\u001b[39m\u001b[39mSelected column: \u001b[39m\u001b[39m{\u001b[39;00mcolumn\u001b[39m}\u001b[39;00m\u001b[39m\"\u001b[39m)\n",
      "\u001b[1;31mTypeError\u001b[0m: '<' not supported between instances of 'float' and 'str'"
     ]
    }
   ],
   "source": [
    "for column in os_clean.columns:\n",
    "  os_clean_col = os_clean[column]\n",
    "  column_dtype = os_clean_col.dtypes\n",
    "  column_nas = os_clean_col.isna().sum()\n",
    "  column_min = min(os_clean_col)\n",
    "  column_max = max(os_clean_col)\n",
    "  print(f\"Selected column: {column}\")\n",
    "  print(f\"Data type: {column_dtype}\")\n",
    "  print(f\"Number of NaNs: {column_nas}\")\n",
    "  print(f\"Minimum: {column_min}\")\n",
    "  print(f\"Maximum: {column_max}\")\n",
    "  print()"
   ]
  },
  {
   "cell_type": "code",
   "execution_count": 371,
   "metadata": {},
   "outputs": [
    {
     "ename": "KeyError",
     "evalue": "('Refractive_Defect', 'dioptre_1')",
     "output_type": "error",
     "traceback": [
      "\u001b[1;31m---------------------------------------------------------------------------\u001b[0m",
      "\u001b[1;31mKeyError\u001b[0m                                  Traceback (most recent call last)",
      "File \u001b[1;32m~\\AppData\\Local\\Packages\\PythonSoftwareFoundation.Python.3.10_qbz5n2kfra8p0\\LocalCache\\local-packages\\Python310\\site-packages\\pandas\\core\\indexes\\base.py:3802\u001b[0m, in \u001b[0;36mIndex.get_loc\u001b[1;34m(self, key, method, tolerance)\u001b[0m\n\u001b[0;32m   3801\u001b[0m \u001b[39mtry\u001b[39;00m:\n\u001b[1;32m-> 3802\u001b[0m     \u001b[39mreturn\u001b[39;00m \u001b[39mself\u001b[39;49m\u001b[39m.\u001b[39;49m_engine\u001b[39m.\u001b[39;49mget_loc(casted_key)\n\u001b[0;32m   3803\u001b[0m \u001b[39mexcept\u001b[39;00m \u001b[39mKeyError\u001b[39;00m \u001b[39mas\u001b[39;00m err:\n",
      "File \u001b[1;32m~\\AppData\\Local\\Packages\\PythonSoftwareFoundation.Python.3.10_qbz5n2kfra8p0\\LocalCache\\local-packages\\Python310\\site-packages\\pandas\\_libs\\index.pyx:138\u001b[0m, in \u001b[0;36mpandas._libs.index.IndexEngine.get_loc\u001b[1;34m()\u001b[0m\n",
      "File \u001b[1;32m~\\AppData\\Local\\Packages\\PythonSoftwareFoundation.Python.3.10_qbz5n2kfra8p0\\LocalCache\\local-packages\\Python310\\site-packages\\pandas\\_libs\\index.pyx:165\u001b[0m, in \u001b[0;36mpandas._libs.index.IndexEngine.get_loc\u001b[1;34m()\u001b[0m\n",
      "File \u001b[1;32mpandas\\_libs\\hashtable_class_helper.pxi:5745\u001b[0m, in \u001b[0;36mpandas._libs.hashtable.PyObjectHashTable.get_item\u001b[1;34m()\u001b[0m\n",
      "File \u001b[1;32mpandas\\_libs\\hashtable_class_helper.pxi:5753\u001b[0m, in \u001b[0;36mpandas._libs.hashtable.PyObjectHashTable.get_item\u001b[1;34m()\u001b[0m\n",
      "\u001b[1;31mKeyError\u001b[0m: ('Refractive_Defect', 'dioptre_1')",
      "\nThe above exception was the direct cause of the following exception:\n",
      "\u001b[1;31mKeyError\u001b[0m                                  Traceback (most recent call last)",
      "Cell \u001b[1;32mIn[371], line 2\u001b[0m\n\u001b[0;32m      1\u001b[0m \u001b[39m#Filling Na's, some with rounded means, some with 0\u001b[39;00m\n\u001b[1;32m----> 2\u001b[0m mean_dio1 \u001b[39m=\u001b[39m od_clean[\u001b[39m'\u001b[39;49m\u001b[39mRefractive_Defect\u001b[39;49m\u001b[39m'\u001b[39;49m,\u001b[39m'\u001b[39;49m\u001b[39mdioptre_1\u001b[39;49m\u001b[39m'\u001b[39;49m]\u001b[39m.\u001b[39mmean()\n\u001b[0;32m      3\u001b[0m round_dio1 \u001b[39m=\u001b[39m \u001b[39mround\u001b[39m(mean_dio1 \u001b[39m/\u001b[39m \u001b[39m0.25\u001b[39m) \u001b[39m*\u001b[39m \u001b[39m0.25\u001b[39m\n\u001b[0;32m      4\u001b[0m od_clean[\u001b[39m'\u001b[39m\u001b[39mRefractive_Defect\u001b[39m\u001b[39m'\u001b[39m, \u001b[39m'\u001b[39m\u001b[39mdioptre_1\u001b[39m\u001b[39m'\u001b[39m] \u001b[39m=\u001b[39m od_clean[\u001b[39m'\u001b[39m\u001b[39mRefractive_Defect\u001b[39m\u001b[39m'\u001b[39m, \u001b[39m'\u001b[39m\u001b[39mdioptre_1\u001b[39m\u001b[39m'\u001b[39m]\u001b[39m.\u001b[39mfillna(round_dio1)\n",
      "File \u001b[1;32m~\\AppData\\Local\\Packages\\PythonSoftwareFoundation.Python.3.10_qbz5n2kfra8p0\\LocalCache\\local-packages\\Python310\\site-packages\\pandas\\core\\frame.py:3807\u001b[0m, in \u001b[0;36mDataFrame.__getitem__\u001b[1;34m(self, key)\u001b[0m\n\u001b[0;32m   3805\u001b[0m \u001b[39mif\u001b[39;00m \u001b[39mself\u001b[39m\u001b[39m.\u001b[39mcolumns\u001b[39m.\u001b[39mnlevels \u001b[39m>\u001b[39m \u001b[39m1\u001b[39m:\n\u001b[0;32m   3806\u001b[0m     \u001b[39mreturn\u001b[39;00m \u001b[39mself\u001b[39m\u001b[39m.\u001b[39m_getitem_multilevel(key)\n\u001b[1;32m-> 3807\u001b[0m indexer \u001b[39m=\u001b[39m \u001b[39mself\u001b[39;49m\u001b[39m.\u001b[39;49mcolumns\u001b[39m.\u001b[39;49mget_loc(key)\n\u001b[0;32m   3808\u001b[0m \u001b[39mif\u001b[39;00m is_integer(indexer):\n\u001b[0;32m   3809\u001b[0m     indexer \u001b[39m=\u001b[39m [indexer]\n",
      "File \u001b[1;32m~\\AppData\\Local\\Packages\\PythonSoftwareFoundation.Python.3.10_qbz5n2kfra8p0\\LocalCache\\local-packages\\Python310\\site-packages\\pandas\\core\\indexes\\base.py:3804\u001b[0m, in \u001b[0;36mIndex.get_loc\u001b[1;34m(self, key, method, tolerance)\u001b[0m\n\u001b[0;32m   3802\u001b[0m     \u001b[39mreturn\u001b[39;00m \u001b[39mself\u001b[39m\u001b[39m.\u001b[39m_engine\u001b[39m.\u001b[39mget_loc(casted_key)\n\u001b[0;32m   3803\u001b[0m \u001b[39mexcept\u001b[39;00m \u001b[39mKeyError\u001b[39;00m \u001b[39mas\u001b[39;00m err:\n\u001b[1;32m-> 3804\u001b[0m     \u001b[39mraise\u001b[39;00m \u001b[39mKeyError\u001b[39;00m(key) \u001b[39mfrom\u001b[39;00m \u001b[39merr\u001b[39;00m\n\u001b[0;32m   3805\u001b[0m \u001b[39mexcept\u001b[39;00m \u001b[39mTypeError\u001b[39;00m:\n\u001b[0;32m   3806\u001b[0m     \u001b[39m# If we have a listlike key, _check_indexing_error will raise\u001b[39;00m\n\u001b[0;32m   3807\u001b[0m     \u001b[39m#  InvalidIndexError. Otherwise we fall through and re-raise\u001b[39;00m\n\u001b[0;32m   3808\u001b[0m     \u001b[39m#  the TypeError.\u001b[39;00m\n\u001b[0;32m   3809\u001b[0m     \u001b[39mself\u001b[39m\u001b[39m.\u001b[39m_check_indexing_error(key)\n",
      "\u001b[1;31mKeyError\u001b[0m: ('Refractive_Defect', 'dioptre_1')"
     ]
    }
   ],
   "source": [
    "#Filling Na's, some with rounded means, some with 0\n",
    "mean_dio1 = od_clean['Refractive_Defect','dioptre_1'].mean()\n",
    "round_dio1 = round(mean_dio1 / 0.25) * 0.25\n",
    "od_clean['Refractive_Defect', 'dioptre_1'] = od_clean['Refractive_Defect', 'dioptre_1'].fillna(round_dio1)\n",
    "\n",
    "mean_dio2 = od_clean['Refractive_Defect','dioptre_2'].mean()\n",
    "round_dio2 = round(mean_dio2 / 0.25) * 0.25\n",
    "od_clean['Refractive_Defect', 'dioptre_2'] = od_clean['Refractive_Defect', 'dioptre_2'].fillna(round_dio2)\n",
    "\n",
    "mean_ast = od_clean['Refractive_Defect','astigmatism'].mean()\n",
    "round_ast = round(mean_ast)\n",
    "od_clean['Refractive_Defect', 'astigmatism'] = od_clean['Refractive_Defect', 'astigmatism'].fillna(round_ast)\n",
    "\n",
    "mode_pp = str(od_clean[('Phakic/Pseudophakic', 'Phakic/Pseudophakic')].mode().iloc[0])\n",
    "od_clean['Phakic/Pseudophakic', 'Phakic/Pseudophakic'] = od_clean['Phakic/Pseudophakic', 'Phakic/Pseudophakic'].fillna(mode_pp)\n",
    "\n",
    "mean_pne = od_clean['IOP', 'Pneumatic'].mean()\n",
    "round_pne = round(mean_pne)\n",
    "od_clean['IOP', 'Pneumatic'] = od_clean['IOP', 'Pneumatic'].fillna(round_pne)\n",
    "\n",
    "mean_per = od_clean['IOP', 'Perkins'].mean()\n",
    "round_per = round(mean_per)\n",
    "od_clean['IOP', 'Perkins'] = od_clean['IOP', 'Perkins'].fillna(round_per)\n",
    "\n",
    "mean_pach = od_clean['Pachymetry', 'Pachymetry'].mean()\n",
    "round_pach = round(mean_pach)\n",
    "od_clean['Pachymetry', 'Pachymetry'] = od_clean['Pachymetry', 'Pachymetry'].fillna(round_pach)\n",
    "\n",
    "\n",
    "od_clean['Axial_Length', 'Axial_Length'] = od_clean['Axial_Length', 'Axial_Length'].fillna(26)\n",
    "\n",
    "mean_vf = od_clean['VF_MD', 'VF_MD'].mean()\n",
    "round_vf = round(mean_vf/0.01)*0.01\n",
    "od_clean['VF_MD', 'VF_MD'] = od_clean['VF_MD', 'VF_MD'].fillna(round_vf)\n",
    "\n",
    "od_clean.to_excel(\"od_clean.xlsx\")"
   ]
  },
  {
   "cell_type": "code",
   "execution_count": null,
   "metadata": {},
   "outputs": [
    {
     "name": "stdout",
     "output_type": "stream",
     "text": [
      "                     ID                                      ID\n",
      "Age                  Age                                    Age\n",
      "Gender               Gender                              Gender\n",
      "Diagnosis            Diagnosis                        Diagnosis\n",
      "Refractive_Defect    dioptre_1                        dioptre_1\n",
      "                     dioptre_2                        dioptre_2\n",
      "                     astigmatism                    astigmatism\n",
      "Phakic/Pseudophakic  Phakic/Pseudophakic    Phakic/Pseudophakic\n",
      "IOP                  Pneumatic                        Pneumatic\n",
      "                     Perkins                            Perkins\n",
      "Pachymetry           Pachymetry                      Pachymetry\n",
      "Axial_Length         Axial_Length                  Axial_Length\n",
      "VF_MD                VF_MD                                VF_MD\n",
      "Name: 0, dtype: object\n"
     ]
    }
   ],
   "source": [
    "#Same for os_clean, extra few lines as different format\n",
    "os_clean_dio1 = os_clean['Refractive_Defect','dioptre_1']\n",
    "os_clean_dio1 = pd.to_numeric(os_clean_dio1, errors='coerce')\n",
    "mean_dio1 = os_clean_dio1.mean()\n",
    "round_dio1 = round(mean_dio1 / 0.25) * 0.25\n",
    "os_clean['Refractive_Defect', 'dioptre_1'] = os_clean['Refractive_Defect', 'dioptre_1'].fillna(round_dio1)\n",
    "\n",
    "os_clean_dio2 = os_clean['Refractive_Defect','dioptre_2']\n",
    "os_clean_dio2 = pd.to_numeric(os_clean_dio2, errors='coerce')\n",
    "mean_dio2 = os_clean_dio2.mean()\n",
    "round_dio2 = round(mean_dio2 / 0.25) * 0.25\n",
    "os_clean['Refractive_Defect', 'dioptre_2'] = os_clean['Refractive_Defect', 'dioptre_2'].fillna(round_dio2)\n",
    "\n",
    "os_clean_ast = os_clean['Refractive_Defect','astigmatism']\n",
    "os_clean_ast = pd.to_numeric(os_clean_dio1, errors='coerce')\n",
    "mean_ast = os_clean_ast.mean()\n",
    "round_ast = round(mean_ast)\n",
    "os_clean['Refractive_Defect', 'astigmatism'] = os_clean['Refractive_Defect', 'astigmatism'].fillna(round_ast)\n",
    "\n",
    "mode_pp = str(os_clean[('Phakic/Pseudophakic', 'Phakic/Pseudophakic')].mode().iloc[0])\n",
    "os_clean['Phakic/Pseudophakic', 'Phakic/Pseudophakic'] = os_clean['Phakic/Pseudophakic', 'Phakic/Pseudophakic'].fillna(mode_pp)\n",
    "\n",
    "os_clean_pne = os_clean['IOP', 'Pneumatic']\n",
    "os_clean_pne = pd.to_numeric(os_clean_pne, errors='coerce')\n",
    "mean_pne = os_clean_pne.mean()\n",
    "round_pne = round(mean_pne)\n",
    "os_clean['IOP', 'Pneumatic'] = os_clean['IOP', 'Pneumatic'].fillna(round_pne)\n",
    "\n",
    "os_clean_per = os_clean['IOP', 'Perkins']\n",
    "os_clean_per = pd.to_numeric(os_clean_per, errors='coerce')\n",
    "mean_per = os_clean_per.mean()\n",
    "round_per = round(mean_per)\n",
    "os_clean['IOP', 'Perkins'] = os_clean['IOP', 'Perkins'].fillna(round_per)\n",
    "\n",
    "os_clean_pach = os_clean['Pachymetry', 'Pachymetry']\n",
    "os_clean_pach = pd.to_numeric(os_clean_pach, errors='coerce')\n",
    "mean_pach = os_clean_pach.mean()\n",
    "round_pach = round(mean_pach)\n",
    "os_clean['Pachymetry', 'Pachymetry'] = os_clean['Pachymetry', 'Pachymetry'].fillna(round_pach)\n",
    "\n",
    "\n",
    "os_clean['Axial_Length', 'Axial_Length'] = os_clean['Axial_Length', 'Axial_Length'].fillna(26)\n",
    "\n",
    "os_clean_vf = os_clean['VF_MD', 'VF_MD']\n",
    "os_clean_vf = pd.to_numeric(os_clean_vf, errors='coerce')\n",
    "mean_vf = os_clean_vf.mean()\n",
    "round_vf = round(mean_vf/0.01)*0.01\n",
    "os_clean['VF_MD', 'VF_MD'] = os_clean['VF_MD', 'VF_MD'].fillna(round_vf)\n",
    "\n",
    "print(os_clean.iloc[0, :])\n",
    "os_clean = os_clean.drop(os_clean.index[0])\n",
    "os_clean.to_excel(\"os_clean.xlsx\")\n"
   ]
  },
  {
   "cell_type": "code",
   "execution_count": null,
   "metadata": {},
   "outputs": [
    {
     "name": "stdout",
     "output_type": "stream",
     "text": [
      "Empty DataFrame\n",
      "Columns: [(, ID), (Age, Age), (Gender, Gender), (Diagnosis, Diagnosis), (Refractive_Defect, dioptre_1), (Refractive_Defect, dioptre_2), (Refractive_Defect, astigmatism), (Phakic/Pseudophakic, Phakic/Pseudophakic), (IOP, Pneumatic), (IOP, Perkins), (Pachymetry, Pachymetry), (Axial_Length, Axial_Length), (VF_MD, VF_MD)]\n",
      "Index: []\n",
      "Empty DataFrame\n",
      "Columns: [(, ID), (Age, Age), (Gender, Gender), (Diagnosis, Diagnosis), (Refractive_Defect, dioptre_1), (Refractive_Defect, dioptre_2), (Refractive_Defect, astigmatism), (Phakic/Pseudophakic, Phakic/Pseudophakic), (IOP, Pneumatic), (IOP, Perkins), (Pachymetry, Pachymetry), (Axial_Length, Axial_Length), (VF_MD, VF_MD)]\n",
      "Index: []\n"
     ]
    }
   ],
   "source": [
    "#Confirming no duplicates\n",
    "duplicates = od_clean.duplicated()\n",
    "print(od_clean[duplicates == True])\n",
    "duplicates = os_clean.duplicated()\n",
    "print(os_clean[duplicates == True])"
   ]
  },
  {
   "cell_type": "code",
   "execution_count": null,
   "metadata": {},
   "outputs": [
    {
     "name": "stdout",
     "output_type": "stream",
     "text": [
      "minimum: 15\n",
      "maximum: 90\n"
     ]
    },
    {
     "data": {
      "text/plain": [
       "<AxesSubplot: >"
      ]
     },
     "execution_count": 251,
     "metadata": {},
     "output_type": "execute_result"
    },
    {
     "data": {
      "image/png": "[encoded data removed]",
      "text/plain": [
       "<Figure size 640x480 with 1 Axes>"
      ]
     },
     "metadata": {},
     "output_type": "display_data"
    }
   ],
   "source": [
    "od_clean_age = od_clean['Age','Age']\n",
    "print('minimum:', min(od_clean_age))\n",
    "print('maximum:', max(od_clean_age))\n",
    "sns.boxplot(data = od_clean_age)\n",
    "\n",
    "\n"
   ]
  },
  {
   "cell_type": "code",
   "execution_count": null,
   "metadata": {},
   "outputs": [
    {
     "name": "stdout",
     "output_type": "stream",
     "text": [
      "minimum: 15\n",
      "maximum: 90\n"
     ]
    }
   ],
   "source": [
    "os_clean_age = os_clean['Age','Age']\n",
    "os_clean_age = pd.to_numeric(os_clean_age, errors='coerce')\n",
    "print('minimum:', min(os_clean_age))\n",
    "print('maximum:', max(os_clean_age))"
   ]
  },
  {
   "cell_type": "code",
   "execution_count": null,
   "metadata": {},
   "outputs": [],
   "source": [
    "df_clean['Gender','Gender'] = df_clean['Gender','Gender'].replace({'male':0, 'female':1})\n",
    "\n",
    "\n"
   ]
  }
 ],
 "metadata": {
  "kernelspec": {
   "display_name": "Python 3",
   "language": "python",
   "name": "python3"
  },
  "language_info": {
   "codemirror_mode": {
    "name": "ipython",
    "version": 3
   },
   "file_extension": ".py",
   "mimetype": "text/x-python",
   "name": "python",
   "nbconvert_exporter": "python",
   "pygments_lexer": "ipython3",
   "version": "3.10.10"
  },
  "orig_nbformat": 4,
  "vscode": {
   "interpreter": {
    "hash": "4a4a32836cfcf09d0be1b60e3fed54fd94725d7f18611df689f0a2f723a72c4a"
   }
  }
 },
 "nbformat": 4,
 "nbformat_minor": 2
}
