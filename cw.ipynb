{
 "cells": [
  {
   "attachments": {},
   "cell_type": "markdown",
   "metadata": {},
   "source": [
    "Section 1- Data Cleaning"
   ]
  },
  {
   "cell_type": "code",
   "execution_count": 55,
   "metadata": {},
   "outputs": [],
   "source": [
    "import pandas as pd\n",
    "import seaborn as sns"
   ]
  },
  {
   "cell_type": "code",
   "execution_count": 56,
   "metadata": {},
   "outputs": [],
   "source": [
    "#Importing datasets\n",
    "od1 = pd.read_excel('od1.xlsx', engine = 'openpyxl')\n",
    "od2 = pd.read_excel('od2.xlsx', engine = 'openpyxl')\n",
    "os = pd.read_excel('os.xlsx', engine = 'openpyxl')"
   ]
  },
  {
   "attachments": {},
   "cell_type": "markdown",
   "metadata": {},
   "source": [
    "Problem 1"
   ]
  },
  {
   "cell_type": "code",
   "execution_count": 57,
   "metadata": {},
   "outputs": [],
   "source": [
    "#Merging datasets and sorting by ID\n",
    "merged =pd.merge(od1, od2, how ='left', on=['dioptre_1', 'dioptre_2', 'Pachymetry', 'astigmatism', 'Diagnosis'])\n",
    "sorted = merged.sort_values(by = [\"ID\"])"
   ]
  },
  {
   "cell_type": "code",
   "execution_count": 58,
   "metadata": {},
   "outputs": [],
   "source": [
    "#Creating Sub-columns\n",
    "def add_top_column(df, top_col, inplace=False):\n",
    "    df.columns = pd.MultiIndex.from_product([[top_col], df.columns])\n",
    "    return df\n",
    "ID = sorted[\"ID\"]\n",
    "ID = pd.DataFrame(ID)\n",
    "ID = add_top_column(ID, \"\")\n",
    "Age = sorted[\"Age\"]\n",
    "Age = pd.DataFrame(Age)\n",
    "Age = add_top_column(Age, \"Age\")\n",
    "Gender = sorted[\"Gender\"]\n",
    "Gender = pd.DataFrame(Gender)\n",
    "Gender = add_top_column(Gender, \"Gender\")\n",
    "Diagnosis = sorted[\"Diagnosis\"]\n",
    "Diagnosis = pd.DataFrame(Diagnosis)\n",
    "Diagnosis = add_top_column(Diagnosis, \"Diagnosis\")\n",
    "Refractive_Defect = sorted[[\"dioptre_1\", \"dioptre_2\", \"astigmatism\"]]\n",
    "Refractive_Defect = pd.DataFrame(Refractive_Defect)\n",
    "Refractive_Defect = add_top_column(Refractive_Defect, \"Refractive_Defect\")\n",
    "PhakicPseudophakic = sorted[\"Phakic/Pseudophakic\"]\n",
    "PhakicPseudophakic = pd.DataFrame(PhakicPseudophakic)\n",
    "PhakicPseudophakic = add_top_column(PhakicPseudophakic, \"Phakic/Pseudophakic\")\n",
    "IOP = sorted[[\"Pneumatic\",\"Perkins\"]]\n",
    "IOP = pd.DataFrame(IOP)\n",
    "IOP = add_top_column(IOP, \"IOP\")\n",
    "Pachymetry = sorted[\"Pachymetry\"]\n",
    "Pachymetry = pd.DataFrame(Pachymetry)\n",
    "Pachymetry = add_top_column(Pachymetry, \"Pachymetry\")\n",
    "Axial_Length = sorted[\"Axial_Length\"]\n",
    "Axial_Length = pd.DataFrame(Axial_Length)\n",
    "Axial_Length = add_top_column(Axial_Length, \"Axial_Length\")\n",
    "VF_MD = sorted[\"VF_MD\"]\n",
    "VF_MD = pd.DataFrame(VF_MD)\n",
    "VF_MD = add_top_column(VF_MD, \"VF_MD\")\n",
    "df_formatted = pd.concat([ID, Age, Gender, Diagnosis, Refractive_Defect, PhakicPseudophakic, IOP, Pachymetry,Axial_Length, VF_MD ], axis=1)\n",
    "df_formatted.to_excel(\"df_formatted.xlsx\")"
   ]
  },
  {
   "attachments": {},
   "cell_type": "markdown",
   "metadata": {},
   "source": [
    "Problem 2"
   ]
  },
  {
   "cell_type": "code",
   "execution_count": 59,
   "metadata": {},
   "outputs": [
    {
     "name": "stdout",
     "output_type": "stream",
     "text": [
      "Selected column: Unnamed: 0\n",
      "Data type: object\n",
      "Number of NaNs: 0\n",
      "\n",
      "Selected column: Age\n",
      "Data type: object\n",
      "Number of NaNs: 0\n",
      "\n",
      "Selected column: Gender\n",
      "Data type: object\n",
      "Number of NaNs: 0\n",
      "\n",
      "Selected column: Diagnosis\n",
      "Data type: object\n",
      "Number of NaNs: 0\n",
      "\n",
      "Selected column: Refractive_Defect\n",
      "Data type: object\n",
      "Number of NaNs: 12\n",
      "\n",
      "Selected column: Unnamed: 5\n",
      "Data type: object\n",
      "Number of NaNs: 5\n",
      "\n",
      "Selected column: Unnamed: 6\n",
      "Data type: object\n",
      "Number of NaNs: 5\n",
      "\n",
      "Selected column: Phakic/Pseudophakic\n",
      "Data type: object\n",
      "Number of NaNs: 6\n",
      "\n",
      "Selected column: IOP\n",
      "Data type: object\n",
      "Number of NaNs: 45\n",
      "\n",
      "Selected column: Unnamed: 9\n",
      "Data type: object\n",
      "Number of NaNs: 180\n",
      "\n",
      "Selected column: Pachymetry\n",
      "Data type: object\n",
      "Number of NaNs: 7\n",
      "\n",
      "Selected column: Axial_Length\n",
      "Data type: object\n",
      "Number of NaNs: 4\n",
      "\n",
      "Selected column: VF_MD\n",
      "Data type: object\n",
      "Number of NaNs: 162\n",
      "\n"
     ]
    }
   ],
   "source": [
    "for column in os.columns:\n",
    "  os_col = os[column]\n",
    "  column_dtype = os_col.dtypes\n",
    "  column_nas = os_col.isna().sum()\n",
    "  column_unique = os_col.unique()\n",
    "  print(f\"Selected column: {column}\")\n",
    "  print(f\"Data type: {column_dtype}\")\n",
    "  print(f\"Number of NaNs: {column_nas}\")\n",
    "  print()"
   ]
  },
  {
   "cell_type": "code",
   "execution_count": 60,
   "metadata": {},
   "outputs": [
    {
     "name": "stdout",
     "output_type": "stream",
     "text": [
      "Selected column: ('', 'ID')\n",
      "Data type: object\n",
      "Number of NaNs: 0\n",
      "Number of uniques: 244\n",
      "\n",
      "Selected column: ('Age', 'Age')\n",
      "Data type: int64\n",
      "Number of NaNs: 0\n",
      "Number of uniques: 53\n",
      "\n",
      "Selected column: ('Gender', 'Gender')\n",
      "Data type: object\n",
      "Number of NaNs: 0\n",
      "Number of uniques: 2\n",
      "\n",
      "Selected column: ('Diagnosis', 'Diagnosis')\n",
      "Data type: object\n",
      "Number of NaNs: 0\n",
      "Number of uniques: 3\n",
      "\n",
      "Selected column: ('Refractive_Defect', 'dioptre_1')\n",
      "Data type: float64\n",
      "Number of NaNs: 15\n",
      "Number of uniques: 43\n",
      "\n",
      "Selected column: ('Refractive_Defect', 'dioptre_2')\n",
      "Data type: float64\n",
      "Number of NaNs: 3\n",
      "Number of uniques: 21\n",
      "\n",
      "Selected column: ('Refractive_Defect', 'astigmatism')\n",
      "Data type: float64\n",
      "Number of NaNs: 4\n",
      "Number of uniques: 98\n",
      "\n",
      "Selected column: ('Phakic/Pseudophakic', 'Phakic/Pseudophakic')\n",
      "Data type: object\n",
      "Number of NaNs: 5\n",
      "Number of uniques: 3\n",
      "\n",
      "Selected column: ('IOP', 'Pneumatic')\n",
      "Data type: float64\n",
      "Number of NaNs: 47\n",
      "Number of uniques: 23\n",
      "\n",
      "Selected column: ('IOP', 'Perkins')\n",
      "Data type: float64\n",
      "Number of NaNs: 180\n",
      "Number of uniques: 18\n",
      "\n",
      "Selected column: ('Pachymetry', 'Pachymetry')\n",
      "Data type: float64\n",
      "Number of NaNs: 7\n",
      "Number of uniques: 120\n",
      "\n",
      "Selected column: ('Axial_Length', 'Axial_Length')\n",
      "Data type: float64\n",
      "Number of NaNs: 5\n",
      "Number of uniques: 170\n",
      "\n",
      "Selected column: ('VF_MD', 'VF_MD')\n",
      "Data type: float64\n",
      "Number of NaNs: 162\n",
      "Number of uniques: 78\n",
      "\n"
     ]
    }
   ],
   "source": [
    "for column in df_formatted.columns:\n",
    "  df_formatted_col = df_formatted[column]\n",
    "  column_dtype = df_formatted_col.dtypes\n",
    "  column_nas = df_formatted_col.isna().sum()\n",
    "  column_unique = len(df_formatted_col.unique())\n",
    "  print(f\"Selected column: {column}\")\n",
    "  print(f\"Data type: {column_dtype}\")\n",
    "  print(f\"Number of NaNs: {column_nas}\")\n",
    "  print(f\"Number of uniques: {column_unique}\")\n",
    "  print()\n"
   ]
  },
  {
   "cell_type": "code",
   "execution_count": 73,
   "metadata": {},
   "outputs": [
    {
     "name": "stdout",
     "output_type": "stream",
     "text": [
      "MultiIndex([(                   '',                  'ID'),\n",
      "            (                'Age',                 'Age'),\n",
      "            (             'Gender',              'Gender'),\n",
      "            (          'Diagnosis',           'Diagnosis'),\n",
      "            (  'Refractive_Defect',           'dioptre_1'),\n",
      "            (  'Refractive_Defect',           'dioptre_2'),\n",
      "            (  'Refractive_Defect',         'astigmatism'),\n",
      "            ('Phakic/Pseudophakic', 'Phakic/Pseudophakic'),\n",
      "            (                'IOP',           'Pneumatic'),\n",
      "            (                'IOP',             'Perkins'),\n",
      "            (         'Pachymetry',          'Pachymetry'),\n",
      "            (       'Axial_Length',        'Axial_Length'),\n",
      "            (              'VF_MD',               'VF_MD')],\n",
      "           )\n",
      "Index(['Unnamed: 0', 'Age', 'Gender', 'Diagnosis', 'Refractive_Defect',\n",
      "       'Unnamed: 5', 'Unnamed: 6', 'Phakic/Pseudophakic', 'IOP', 'Unnamed: 9',\n",
      "       'Pachymetry', 'Axial_Length', 'VF_MD'],\n",
      "      dtype='object')\n"
     ]
    }
   ],
   "source": [
    "df_clean = df_formatted.copy(deep=True)\n",
    "\n",
    "print(df_clean.columns)\n",
    "print(os.columns)"
   ]
  },
  {
   "cell_type": "code",
   "execution_count": 63,
   "metadata": {},
   "outputs": [
    {
     "name": "stdout",
     "output_type": "stream",
     "text": [
      "crystalline lens has been removed \n"
     ]
    }
   ],
   "source": [
    "#Filling Na's, some with rounded means, some with 0\n",
    "mean_dio1 = df_clean['Refractive_Defect','dioptre_1'].mean()\n",
    "round_dio1 = round(mean_dio1 / 0.25) * 0.25\n",
    "df_clean['Refractive_Defect', 'dioptre_1'] = df_clean['Refractive_Defect', 'dioptre_1'].fillna(round_dio1)\n",
    "\n",
    "mean_dio2 = df_clean['Refractive_Defect','dioptre_2'].mean()\n",
    "round_dio2 = round(mean_dio2 / 0.25) * 0.25\n",
    "df_clean['Refractive_Defect', 'dioptre_2'] = df_clean['Refractive_Defect', 'dioptre_2'].fillna(round_dio2)\n",
    "\n",
    "mean_ast = df_clean['Refractive_Defect','astigmatism'].mean()\n",
    "round_ast = round(mean_ast)\n",
    "df_clean['Refractive_Defect', 'astigmatism'] = df_clean['Refractive_Defect', 'astigmatism'].fillna(round_ast)\n",
    "\n",
    "mode_pp = str(df_clean[('Phakic/Pseudophakic', 'Phakic/Pseudophakic')].mode().iloc[0])\n",
    "df_clean['Phakic/Pseudophakic', 'Phakic/Pseudophakic'] = df_clean['Phakic/Pseudophakic', 'Phakic/Pseudophakic'].fillna(mode_pp)\n",
    "\n",
    "mean_pne = df_clean['IOP', 'Pneumatic'].mean()\n",
    "round_pne = round(mean_pne)\n",
    "df_clean['IOP', 'Pneumatic'] = df_clean['IOP', 'Pneumatic'].fillna(round_pne)\n",
    "\n",
    "mean_per = df_clean['IOP', 'Perkins'].mean()\n",
    "round_per = round(mean_per)\n",
    "df_clean['IOP', 'Perkins'] = df_clean['IOP', 'Perkins'].fillna(round_per)\n",
    "\n",
    "mean_pach = df_clean['Pachymetry', 'Pachymetry'].mean()\n",
    "round_pach = round(mean_pach)\n",
    "df_clean['Pachymetry', 'Pachymetry'] = df_clean['Pachymetry', 'Pachymetry'].fillna(round_pach)\n",
    "\n",
    "\n",
    "df_clean['Axial_Length', 'Axial_Length'] = df_clean['Axial_Length', 'Axial_Length'].fillna(26)\n",
    "\n",
    "mean_vf = df_clean['VF_MD', 'VF_MD'].mean()\n",
    "round_vf = round(mean_vf/0.01)*0.01\n",
    "df_clean['VF_MD', 'VF_MD'] = df_clean['VF_MD', 'VF_MD'].fillna(round_vf)\n",
    "\n",
    "df_clean.to_excel(\"df_clean.xlsx\")"
   ]
  },
  {
   "cell_type": "code",
   "execution_count": 68,
   "metadata": {},
   "outputs": [
    {
     "name": "stdout",
     "output_type": "stream",
     "text": [
      "Empty DataFrame\n",
      "Columns: [(, ID), (Age, Age), (Gender, Gender), (Diagnosis, Diagnosis), (Refractive_Defect, dioptre_1), (Refractive_Defect, dioptre_2), (Refractive_Defect, astigmatism), (Phakic/Pseudophakic, Phakic/Pseudophakic), (IOP, Pneumatic), (IOP, Perkins), (Pachymetry, Pachymetry), (Axial_Length, Axial_Length), (VF_MD, VF_MD)]\n",
      "Index: []\n"
     ]
    }
   ],
   "source": [
    "#Confirming no duplicates\n",
    "duplicates = df_clean.duplicated()\n",
    "print(df_clean[duplicates == True])"
   ]
  },
  {
   "cell_type": "code",
   "execution_count": 69,
   "metadata": {},
   "outputs": [
    {
     "ename": "ValueError",
     "evalue": "The truth value of a Series is ambiguous. Use a.empty, a.bool(), a.item(), a.any() or a.all().",
     "output_type": "error",
     "traceback": [
      "\u001b[1;31m---------------------------------------------------------------------------\u001b[0m",
      "\u001b[1;31mValueError\u001b[0m                                Traceback (most recent call last)",
      "Cell \u001b[1;32mIn[69], line 1\u001b[0m\n\u001b[1;32m----> 1\u001b[0m \u001b[39mif\u001b[39;00m df_clean[\u001b[39m'\u001b[39;49m\u001b[39mGender\u001b[39;49m\u001b[39m'\u001b[39;49m,\u001b[39m'\u001b[39;49m\u001b[39mGender\u001b[39;49m\u001b[39m'\u001b[39;49m] \u001b[39m==\u001b[39;49m \u001b[39m'\u001b[39;49m\u001b[39mmale\u001b[39;49m\u001b[39m'\u001b[39;49m:\n\u001b[0;32m      2\u001b[0m     df_clean[\u001b[39m'\u001b[39m\u001b[39mGender\u001b[39m\u001b[39m'\u001b[39m,\u001b[39m'\u001b[39m\u001b[39mGender\u001b[39m\u001b[39m'\u001b[39m] \u001b[39m==\u001b[39m \u001b[39m'\u001b[39m\u001b[39m1\u001b[39m\u001b[39m'\u001b[39m\n",
      "File \u001b[1;32m~\\AppData\\Local\\Packages\\PythonSoftwareFoundation.Python.3.10_qbz5n2kfra8p0\\LocalCache\\local-packages\\Python310\\site-packages\\pandas\\core\\generic.py:1527\u001b[0m, in \u001b[0;36mNDFrame.__nonzero__\u001b[1;34m(self)\u001b[0m\n\u001b[0;32m   1525\u001b[0m \u001b[39m@final\u001b[39m\n\u001b[0;32m   1526\u001b[0m \u001b[39mdef\u001b[39;00m \u001b[39m__nonzero__\u001b[39m(\u001b[39mself\u001b[39m) \u001b[39m-\u001b[39m\u001b[39m>\u001b[39m NoReturn:\n\u001b[1;32m-> 1527\u001b[0m     \u001b[39mraise\u001b[39;00m \u001b[39mValueError\u001b[39;00m(\n\u001b[0;32m   1528\u001b[0m         \u001b[39mf\u001b[39m\u001b[39m\"\u001b[39m\u001b[39mThe truth value of a \u001b[39m\u001b[39m{\u001b[39;00m\u001b[39mtype\u001b[39m(\u001b[39mself\u001b[39m)\u001b[39m.\u001b[39m\u001b[39m__name__\u001b[39m\u001b[39m}\u001b[39;00m\u001b[39m is ambiguous. \u001b[39m\u001b[39m\"\u001b[39m\n\u001b[0;32m   1529\u001b[0m         \u001b[39m\"\u001b[39m\u001b[39mUse a.empty, a.bool(), a.item(), a.any() or a.all().\u001b[39m\u001b[39m\"\u001b[39m\n\u001b[0;32m   1530\u001b[0m     )\n",
      "\u001b[1;31mValueError\u001b[0m: The truth value of a Series is ambiguous. Use a.empty, a.bool(), a.item(), a.any() or a.all()."
     ]
    }
   ],
   "source": [
    "df_clean['Gender','Gender'] = df_clean['Gender','Gender'].replace({'male':0, 'female':1})\n",
    "\n",
    "\n"
   ]
  }
 ],
 "metadata": {
  "kernelspec": {
   "display_name": "Python 3",
   "language": "python",
   "name": "python3"
  },
  "language_info": {
   "codemirror_mode": {
    "name": "ipython",
    "version": 3
   },
   "file_extension": ".py",
   "mimetype": "text/x-python",
   "name": "python",
   "nbconvert_exporter": "python",
   "pygments_lexer": "ipython3",
   "version": "3.10.10"
  },
  "orig_nbformat": 4,
  "vscode": {
   "interpreter": {
    "hash": "4a4a32836cfcf09d0be1b60e3fed54fd94725d7f18611df689f0a2f723a72c4a"
   }
  }
 },
 "nbformat": 4,
 "nbformat_minor": 2
}
