{
 "cells": [
  {
   "attachments": {},
   "cell_type": "markdown",
   "metadata": {},
   "source": [
    "Section 1- Data Cleaning"
   ]
  },
  {
   "cell_type": "code",
   "execution_count": 1,
   "metadata": {},
   "outputs": [],
   "source": [
    "import pandas as pd\n",
    "import seaborn as sns"
   ]
  },
  {
   "cell_type": "code",
   "execution_count": 2,
   "metadata": {},
   "outputs": [],
   "source": [
    "#Importing datasets\n",
    "od1 = pd.read_excel('od1.xlsx', engine = 'openpyxl')\n",
    "od2 = pd.read_excel('od2.xlsx', engine = 'openpyxl')\n",
    "os = pd.read_excel('os.xlsx', engine = 'openpyxl')"
   ]
  },
  {
   "attachments": {},
   "cell_type": "markdown",
   "metadata": {},
   "source": [
    "Problem 1"
   ]
  },
  {
   "cell_type": "code",
   "execution_count": 3,
   "metadata": {},
   "outputs": [],
   "source": [
    "#Merging datasets and sorting by ID\n",
    "merged =pd.merge(od1, od2, how ='left', on=['dioptre_1', 'dioptre_2', 'Pachymetry', 'astigmatism', 'Diagnosis'])\n",
    "sorted = merged.sort_values(by = [\"ID\"])"
   ]
  },
  {
   "cell_type": "code",
   "execution_count": 4,
   "metadata": {},
   "outputs": [],
   "source": [
    "#Creating Sub-columns\n",
    "def add_top_column(df, top_col, inplace=False):\n",
    "    df.columns = pd.MultiIndex.from_product([[top_col], df.columns])\n",
    "    return df\n",
    "ID = sorted[\"ID\"]\n",
    "ID = pd.DataFrame(ID)\n",
    "ID = add_top_column(ID, \"\")\n",
    "Age = sorted[\"Age\"]\n",
    "Age = pd.DataFrame(Age)\n",
    "Age = add_top_column(Age, \"Age\")\n",
    "Gender = sorted[\"Gender\"]\n",
    "Gender = pd.DataFrame(Gender)\n",
    "Gender = add_top_column(Gender, \"Gender\")\n",
    "Diagnosis = sorted[\"Diagnosis\"]\n",
    "Diagnosis = pd.DataFrame(Diagnosis)\n",
    "Diagnosis = add_top_column(Diagnosis, \"Diagnosis\")\n",
    "Refractive_Defect = sorted[[\"dioptre_1\", \"dioptre_2\", \"astigmatism\"]]\n",
    "Refractive_Defect = pd.DataFrame(Refractive_Defect)\n",
    "Refractive_Defect = add_top_column(Refractive_Defect, \"Refractive_Defect\")\n",
    "PhakicPseudophakic = sorted[\"Phakic/Pseudophakic\"]\n",
    "PhakicPseudophakic = pd.DataFrame(PhakicPseudophakic)\n",
    "PhakicPseudophakic = add_top_column(PhakicPseudophakic, \"Phakic/Pseudophakic\")\n",
    "IOP = sorted[[\"Pneumatic\",\"Perkins\"]]\n",
    "IOP = pd.DataFrame(IOP)\n",
    "IOP = add_top_column(IOP, \"IOP\")\n",
    "Pachymetry = sorted[\"Pachymetry\"]\n",
    "Pachymetry = pd.DataFrame(Pachymetry)\n",
    "Pachymetry = add_top_column(Pachymetry, \"Pachymetry\")\n",
    "Axial_Length = sorted[\"Axial_Length\"]\n",
    "Axial_Length = pd.DataFrame(Axial_Length)\n",
    "Axial_Length = add_top_column(Axial_Length, \"Axial_Length\")\n",
    "VF_MD = sorted[\"VF_MD\"]\n",
    "VF_MD = pd.DataFrame(VF_MD)\n",
    "VF_MD = add_top_column(VF_MD, \"VF_MD\")\n",
    "df_formatted = pd.concat([ID, Age, Gender, Diagnosis, Refractive_Defect, PhakicPseudophakic, IOP, Pachymetry,Axial_Length, VF_MD ], axis=1)\n",
    "df_formatted.to_excel(\"df_formatted.xlsx\")"
   ]
  },
  {
   "attachments": {},
   "cell_type": "markdown",
   "metadata": {},
   "source": [
    "Problem 2"
   ]
  },
  {
   "cell_type": "code",
   "execution_count": 5,
   "metadata": {},
   "outputs": [
    {
     "name": "stdout",
     "output_type": "stream",
     "text": [
      "Selected column: Unnamed: 0\n",
      "Data type: object\n",
      "Number of NaNs: 0\n",
      "\n",
      "Selected column: Age\n",
      "Data type: object\n",
      "Number of NaNs: 0\n",
      "\n",
      "Selected column: Gender\n",
      "Data type: object\n",
      "Number of NaNs: 0\n",
      "\n",
      "Selected column: Diagnosis\n",
      "Data type: object\n",
      "Number of NaNs: 0\n",
      "\n",
      "Selected column: Refractive_Defect\n",
      "Data type: object\n",
      "Number of NaNs: 12\n",
      "\n",
      "Selected column: Unnamed: 5\n",
      "Data type: object\n",
      "Number of NaNs: 5\n",
      "\n",
      "Selected column: Unnamed: 6\n",
      "Data type: object\n",
      "Number of NaNs: 5\n",
      "\n",
      "Selected column: Phakic/Pseudophakic\n",
      "Data type: object\n",
      "Number of NaNs: 6\n",
      "\n",
      "Selected column: IOP\n",
      "Data type: object\n",
      "Number of NaNs: 45\n",
      "\n",
      "Selected column: Unnamed: 9\n",
      "Data type: object\n",
      "Number of NaNs: 180\n",
      "\n",
      "Selected column: Pachymetry\n",
      "Data type: object\n",
      "Number of NaNs: 7\n",
      "\n",
      "Selected column: Axial_Length\n",
      "Data type: object\n",
      "Number of NaNs: 4\n",
      "\n",
      "Selected column: VF_MD\n",
      "Data type: object\n",
      "Number of NaNs: 162\n",
      "\n"
     ]
    }
   ],
   "source": [
    "for column in os.columns:\n",
    "  os_col = os[column]\n",
    "  column_dtype = os_col.dtypes\n",
    "  column_nas = os_col.isna().sum()\n",
    "  column_unique = os_col.unique()\n",
    "  print(f\"Selected column: {column}\")\n",
    "  print(f\"Data type: {column_dtype}\")\n",
    "  print(f\"Number of NaNs: {column_nas}\")\n",
    "  print()"
   ]
  },
  {
   "cell_type": "code",
   "execution_count": 10,
   "metadata": {},
   "outputs": [
    {
     "name": "stdout",
     "output_type": "stream",
     "text": [
      "Selected column: ('', 'ID')\n",
      "Data type: object\n",
      "Number of NaNs: 0\n",
      "Number of uniques: 244\n",
      "\n",
      "Selected column: ('Age', 'Age')\n",
      "Data type: int64\n",
      "Number of NaNs: 0\n",
      "Number of uniques: 53\n",
      "\n",
      "Selected column: ('Gender', 'Gender')\n",
      "Data type: object\n",
      "Number of NaNs: 0\n",
      "Number of uniques: 2\n",
      "\n",
      "Selected column: ('Diagnosis', 'Diagnosis')\n",
      "Data type: object\n",
      "Number of NaNs: 0\n",
      "Number of uniques: 3\n",
      "\n",
      "Selected column: ('Refractive_Defect', 'dioptre_1')\n",
      "Data type: float64\n",
      "Number of NaNs: 15\n",
      "Number of uniques: 43\n",
      "\n",
      "Selected column: ('Refractive_Defect', 'dioptre_2')\n",
      "Data type: float64\n",
      "Number of NaNs: 3\n",
      "Number of uniques: 21\n",
      "\n",
      "Selected column: ('Refractive_Defect', 'astigmatism')\n",
      "Data type: float64\n",
      "Number of NaNs: 4\n",
      "Number of uniques: 98\n",
      "\n",
      "Selected column: ('Phakic/Pseudophakic', 'Phakic/Pseudophakic')\n",
      "Data type: object\n",
      "Number of NaNs: 5\n",
      "Number of uniques: 3\n",
      "\n",
      "Selected column: ('IOP', 'Pneumatic')\n",
      "Data type: float64\n",
      "Number of NaNs: 47\n",
      "Number of uniques: 23\n",
      "\n",
      "Selected column: ('IOP', 'Perkins')\n",
      "Data type: float64\n",
      "Number of NaNs: 180\n",
      "Number of uniques: 18\n",
      "\n",
      "Selected column: ('Pachymetry', 'Pachymetry')\n",
      "Data type: float64\n",
      "Number of NaNs: 7\n",
      "Number of uniques: 120\n",
      "\n",
      "Selected column: ('Axial_Length', 'Axial_Length')\n",
      "Data type: float64\n",
      "Number of NaNs: 5\n",
      "Number of uniques: 170\n",
      "\n",
      "Selected column: ('VF_MD', 'VF_MD')\n",
      "Data type: float64\n",
      "Number of NaNs: 162\n",
      "Number of uniques: 78\n",
      "\n"
     ]
    }
   ],
   "source": [
    "for column in df_formatted.columns:\n",
    "  df_formatted_col = df_formatted[column]\n",
    "  column_dtype = df_formatted_col.dtypes\n",
    "  column_nas = df_formatted_col.isna().sum()\n",
    "  column_unique = len(df_formatted_col.unique())\n",
    "  print(f\"Selected column: {column}\")\n",
    "  print(f\"Data type: {column_dtype}\")\n",
    "  print(f\"Number of NaNs: {column_nas}\")\n",
    "  print(f\"Number of uniques: {column_unique}\")\n",
    "  print()\n"
   ]
  },
  {
   "cell_type": "code",
   "execution_count": 7,
   "metadata": {},
   "outputs": [],
   "source": [
    "df_clean = df_formatted.copy(deep=True)"
   ]
  },
  {
   "cell_type": "markdown",
   "metadata": {},
   "source": []
  },
  {
   "cell_type": "code",
   "execution_count": null,
   "metadata": {},
   "outputs": [],
   "source": []
  }
 ],
 "metadata": {
  "kernelspec": {
   "display_name": "Python 3",
   "language": "python",
   "name": "python3"
  },
  "language_info": {
   "codemirror_mode": {
    "name": "ipython",
    "version": 3
   },
   "file_extension": ".py",
   "mimetype": "text/x-python",
   "name": "python",
   "nbconvert_exporter": "python",
   "pygments_lexer": "ipython3",
   "version": "3.10.10 (tags/v3.10.10:aad5f6a, Feb  7 2023, 17:20:36) [MSC v.1929 64 bit (AMD64)]"
  },
  "orig_nbformat": 4,
  "vscode": {
   "interpreter": {
    "hash": "4a4a32836cfcf09d0be1b60e3fed54fd94725d7f18611df689f0a2f723a72c4a"
   }
  }
 },
 "nbformat": 4,
 "nbformat_minor": 2
}
