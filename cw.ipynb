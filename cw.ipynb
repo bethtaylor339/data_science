{
 "cells": [
  {
   "attachments": {},
   "cell_type": "markdown",
   "metadata": {},
   "source": [
    "## Section 1- Data Cleaning"
   ]
  },
  {
   "cell_type": "code",
   "execution_count": 103,
   "metadata": {},
   "outputs": [],
   "source": [
    "#Importing libraries\n",
    "import pandas as pd\n",
    "import seaborn as sns\n",
    "import matplotlib.pyplot as plt\n"
   ]
  },
  {
   "cell_type": "code",
   "execution_count": 104,
   "metadata": {},
   "outputs": [],
   "source": [
    "#Importing datasets\n",
    "od1 = pd.read_excel('od1.xlsx', engine = 'openpyxl')\n",
    "od2 = pd.read_excel('od2.xlsx', engine = 'openpyxl')\n",
    "os = pd.read_excel('os.xlsx', engine = 'openpyxl')"
   ]
  },
  {
   "attachments": {},
   "cell_type": "markdown",
   "metadata": {},
   "source": [
    "Problem 1- merge od1.xlsx and \n",
    "od2.xlsx into a new file called “od.xlsx”. The file “od.xlsx” should have the same structure as \n",
    "“os.xlsx”."
   ]
  },
  {
   "cell_type": "code",
   "execution_count": 105,
   "metadata": {},
   "outputs": [],
   "source": [
    "#Merging datasets and sorting by ID\n",
    "merged =pd.merge(od1, od2, how ='left', on=['dioptre_1', 'dioptre_2', 'Pachymetry', 'astigmatism', 'Diagnosis'])\n",
    "sorted = merged.sort_values(by = [\"ID\"])"
   ]
  },
  {
   "cell_type": "code",
   "execution_count": 106,
   "metadata": {},
   "outputs": [],
   "source": [
    "#Creating Sub-columns\n",
    "def add_top_column(df, top_col, inplace=False):\n",
    "    df.columns = pd.MultiIndex.from_product([[top_col], df.columns])\n",
    "    return df\n",
    "ID = sorted[\"ID\"]\n",
    "ID = pd.DataFrame(ID)\n",
    "ID = add_top_column(ID, \"\")\n",
    "Age = sorted[\"Age\"]\n",
    "Age = pd.DataFrame(Age)\n",
    "Age = add_top_column(Age, \"Age\")\n",
    "Gender = sorted[\"Gender\"]\n",
    "Gender = pd.DataFrame(Gender)\n",
    "Gender = add_top_column(Gender, \"Gender\")\n",
    "Diagnosis = sorted[\"Diagnosis\"]\n",
    "Diagnosis = pd.DataFrame(Diagnosis)\n",
    "Diagnosis = add_top_column(Diagnosis, \"Diagnosis\")\n",
    "Refractive_Defect = sorted[[\"dioptre_1\", \"dioptre_2\", \"astigmatism\"]]\n",
    "Refractive_Defect = pd.DataFrame(Refractive_Defect)\n",
    "Refractive_Defect = add_top_column(Refractive_Defect, \"Refractive_Defect\")\n",
    "PhakicPseudophakic = sorted[\"Phakic/Pseudophakic\"]\n",
    "PhakicPseudophakic = pd.DataFrame(PhakicPseudophakic)\n",
    "PhakicPseudophakic = add_top_column(PhakicPseudophakic, \"Phakic/Pseudophakic\")\n",
    "IOP = sorted[[\"Pneumatic\",\"Perkins\"]]\n",
    "IOP = pd.DataFrame(IOP)\n",
    "IOP = add_top_column(IOP, \"IOP\")\n",
    "Pachymetry = sorted[\"Pachymetry\"]\n",
    "Pachymetry = pd.DataFrame(Pachymetry)\n",
    "Pachymetry = add_top_column(Pachymetry, \"Pachymetry\")\n",
    "Axial_Length = sorted[\"Axial_Length\"]\n",
    "Axial_Length = pd.DataFrame(Axial_Length)\n",
    "Axial_Length = add_top_column(Axial_Length, \"Axial_Length\")\n",
    "VF_MD = sorted[\"VF_MD\"]\n",
    "VF_MD = pd.DataFrame(VF_MD)\n",
    "VF_MD = add_top_column(VF_MD, \"VF_MD\")\n",
    "df_formatted = pd.concat([ID, Age, Gender, Diagnosis, Refractive_Defect, PhakicPseudophakic, IOP, Pachymetry,Axial_Length, VF_MD ], axis=1)\n",
    "df_formatted.to_excel(\"od.xlsx\")"
   ]
  },
  {
   "attachments": {},
   "cell_type": "markdown",
   "metadata": {},
   "source": [
    "## Problem 2- Data cleaning both od & os"
   ]
  },
  {
   "cell_type": "code",
   "execution_count": 108,
   "metadata": {},
   "outputs": [],
   "source": [
    "od_clean = df_formatted.copy(deep=True)\n",
    "os_clean = os.copy(deep=True)"
   ]
  },
  {
   "cell_type": "code",
   "execution_count": 107,
   "metadata": {},
   "outputs": [],
   "source": [
    "#changing format of OS to match\n",
    "tuples = [('', 'ID'), ('Age', 'Age'), ('Gender', 'Gender'), ('Diagnosis', 'Diagnosis'),\n",
    "          ('Refractive_Defect', 'dioptre_1'), ('Refractive_Defect', 'dioptre_2'),\n",
    "          ('Refractive_Defect', 'astigmatism'), ('Phakic/Pseudophakic', 'Phakic/Pseudophakic'),\n",
    "          ('IOP', 'Pneumatic'), ('IOP', 'Perkins'), ('Pachymetry', 'Pachymetry'),\n",
    "          ('Axial_Length', 'Axial_Length'), ('VF_MD', 'VF_MD')]\n",
    "multi_index = pd.MultiIndex.from_tuples(tuples)\n",
    "os_clean.columns = multi_index"
   ]
  },
  {
   "cell_type": "code",
   "execution_count": 109,
   "metadata": {},
   "outputs": [],
   "source": [
    "#removing subcolumns for both datasets\n",
    "def rename_subcolumns(subcols):\n",
    "    if subcols[0] == subcols[1]:\n",
    "        return subcols[0].lower()\n",
    "    else:\n",
    "        return \"_\".join(subcols).lower()\n",
    "\n",
    "od_clean.columns = od_clean.columns.map(rename_subcolumns)\n",
    "os_clean.columns = os_clean.columns.map(rename_subcolumns)\n",
    "os_clean = os_clean.drop(index=0)"
   ]
  },
  {
   "cell_type": "code",
   "execution_count": 120,
   "metadata": {},
   "outputs": [
    {
     "name": "stdout",
     "output_type": "stream",
     "text": [
      "float64\n",
      "int64\n",
      "float64\n",
      "float64\n",
      "float64\n",
      "float64\n",
      "float64\n",
      "float64\n",
      "float64\n",
      "float64\n",
      "float64\n",
      "float64\n",
      "float64\n"
     ]
    }
   ],
   "source": [
    "#OD--- Checking column Dtypes\n",
    "for column in od_clean.columns:\n",
    "    od_clean_col = od_clean[column]\n",
    "    column_dtype = od_clean_col.dtypes\n",
    "    print(column_dtype)"
   ]
  },
  {
   "cell_type": "code",
   "execution_count": 121,
   "metadata": {},
   "outputs": [
    {
     "name": "stdout",
     "output_type": "stream",
     "text": [
      "float64\n",
      "int64\n",
      "float64\n",
      "float64\n",
      "float64\n",
      "float64\n",
      "float64\n",
      "float64\n",
      "float64\n",
      "float64\n",
      "float64\n",
      "float64\n",
      "float64\n"
     ]
    }
   ],
   "source": [
    "#OS--- Checking column Dtypes\n",
    "for column in os_clean.columns:\n",
    "    os_clean_col = os_clean[column]\n",
    "    column_dtype = os_clean_col.dtypes\n",
    "    print(column_dtype)"
   ]
  },
  {
   "cell_type": "code",
   "execution_count": null,
   "metadata": {},
   "outputs": [],
   "source": [
    "#OS--- Changing some to numeric\n",
    "num_cols = ['age', 'refractive_defect_dioptre_1', 'refractive_defect_dioptre_2', 'refractive_defect_astigmatism', 'iop_pneumatic', 'iop_perkins', 'pachymetry', 'axial_length', 'vf_md']\n",
    "os_clean[num_cols] = os_clean[num_cols].apply(pd.to_numeric, errors='coerce')"
   ]
  },
  {
   "cell_type": "code",
   "execution_count": null,
   "metadata": {},
   "outputs": [],
   "source": [
    "#OS--- Checking dtypes are correct now\n",
    "for column in os_clean.columns:\n",
    "    os_clean_col = os_clean[column]\n",
    "    column_dtype = os_clean_col.dtype\n",
    "    print(column_dtype)"
   ]
  },
  {
   "cell_type": "code",
   "execution_count": null,
   "metadata": {},
   "outputs": [],
   "source": [
    "#OS--- Observing stats for each column\n",
    "for column in os_clean.columns:\n",
    "  os_clean_col = os_clean[column]\n",
    "  if os_clean_col.dtype in (int, float):\n",
    "        column_min = min(os_clean[column])\n",
    "        column_max = max(os_clean[column])\n",
    "        print(f\"Selected column: {column}\")\n",
    "        print(f\"Minimum value: {column_min}\")\n",
    "        print(f\"Maximum value: {column_max}\")\n",
    "        os_clean_col = os_clean[column]\n",
    "        column_dtype = os_clean_col.dtype\n",
    "        column_nas = os_clean_col.isna().sum()\n",
    "        column_unique = len(os_clean_col.unique())\n",
    "        print(f\"Data type: {column_dtype}\")\n",
    "        print(f\"Number of NaNs: {column_nas}\")\n",
    "        print(f\"Number of uniques: {column_unique}\")\n",
    "        print(\"\")\n",
    "  else:\n",
    "        print(f\"Selected column: {column}\")\n",
    "        print(\"Non-numeric\")\n",
    "        os_clean_col = os_clean[column]\n",
    "        column_dtype = os_clean_col.dtypes\n",
    "        column_nas = os_clean_col.isna().sum()\n",
    "        column_unique = len(os_clean_col.unique())\n",
    "        print(f\"Data type: {column_dtype}\")\n",
    "        print(f\"Number of NaNs: {column_nas}\")\n",
    "        print(f\"Number of uniques: {column_unique}\")\n",
    "        print(\"\")"
   ]
  },
  {
   "cell_type": "code",
   "execution_count": 116,
   "metadata": {},
   "outputs": [
    {
     "name": "stdout",
     "output_type": "stream",
     "text": [
      "Data type: object\n",
      "Number of NaNs: 0\n",
      "Number of uniques: 244\n",
      "Minimum value: Non-numeric column\n",
      "Maximum value: Non-numeric column\n",
      "\n",
      "Data type: int64\n",
      "Number of NaNs: 0\n",
      "Number of uniques: 53\n",
      "Minimum value: Non-numeric column\n",
      "Maximum value: Non-numeric column\n",
      "\n",
      "Data type: object\n",
      "Number of NaNs: 0\n",
      "Number of uniques: 2\n",
      "Minimum value: Non-numeric column\n",
      "Maximum value: Non-numeric column\n",
      "\n",
      "Data type: object\n",
      "Number of NaNs: 0\n",
      "Number of uniques: 10\n",
      "Minimum value: Non-numeric column\n",
      "Maximum value: Non-numeric column\n",
      "\n",
      "Data type: object\n",
      "Number of NaNs: 12\n",
      "Number of uniques: 43\n",
      "Minimum value: Non-numeric column\n",
      "Maximum value: Non-numeric column\n",
      "\n",
      "Data type: object\n",
      "Number of NaNs: 5\n",
      "Number of uniques: 22\n",
      "Minimum value: Non-numeric column\n",
      "Maximum value: Non-numeric column\n",
      "\n",
      "Data type: object\n",
      "Number of NaNs: 5\n",
      "Number of uniques: 78\n",
      "Minimum value: Non-numeric column\n",
      "Maximum value: Non-numeric column\n",
      "\n",
      "Data type: object\n",
      "Number of NaNs: 6\n",
      "Number of uniques: 3\n",
      "Minimum value: Non-numeric column\n",
      "Maximum value: Non-numeric column\n",
      "\n",
      "Data type: object\n",
      "Number of NaNs: 45\n",
      "Number of uniques: 22\n",
      "Minimum value: Non-numeric column\n",
      "Maximum value: Non-numeric column\n",
      "\n",
      "Data type: object\n",
      "Number of NaNs: 180\n",
      "Number of uniques: 15\n",
      "Minimum value: Non-numeric column\n",
      "Maximum value: Non-numeric column\n",
      "\n",
      "Data type: object\n",
      "Number of NaNs: 7\n",
      "Number of uniques: 123\n",
      "Minimum value: Non-numeric column\n",
      "Maximum value: Non-numeric column\n",
      "\n",
      "Data type: object\n",
      "Number of NaNs: 4\n",
      "Number of uniques: 181\n",
      "Minimum value: Non-numeric column\n",
      "Maximum value: Non-numeric column\n",
      "\n",
      "Data type: object\n",
      "Number of NaNs: 162\n",
      "Number of uniques: 79\n",
      "Minimum value: Non-numeric column\n",
      "Maximum value: Non-numeric column\n",
      "\n"
     ]
    }
   ],
   "source": [
    "#OD--- Observing stats for each column\n",
    "for column in od_clean.columns:\n",
    "  od_clean_col = od_clean[column]\n",
    "\n",
    "  if od_clean_col.dtype in (int, float):\n",
    "        column_min = min(od_clean[column])\n",
    "        column_max = max(od_clean[column])\n",
    "        print(f\"Selected column: {column}\")\n",
    "        print(f\"Minimum value: {column_min}\")\n",
    "        print(f\"Maximum value: {column_max}\")\n",
    "        od_clean_col = od_clean[column]\n",
    "        column_dtype = od_clean_col.dtype\n",
    "        column_nas = od_clean_col.isna().sum()\n",
    "        column_unique = len(od_clean_col.unique())\n",
    "        print(f\"Data type: {column_dtype}\")\n",
    "        print(f\"Number of NaNs: {column_nas}\")\n",
    "        print(f\"Number of uniques: {column_unique}\")\n",
    "        print(\"\")\n",
    "  else:\n",
    "        print(f\"Selected column: {column}\")\n",
    "        print(\"Non-numeric\")\n",
    "        od_clean_col = od_clean[column]\n",
    "        column_dtype = od_clean_col.dtypes\n",
    "        column_nas = od_clean_col.isna().sum()\n",
    "        column_unique = len(od_clean_col.unique())\n",
    "        print(f\"Data type: {column_dtype}\")\n",
    "        print(f\"Number of NaNs: {column_nas}\")\n",
    "        print(f\"Number of uniques: {column_unique}\")\n",
    "        print(\"\")"
   ]
  },
  {
   "cell_type": "code",
   "execution_count": null,
   "metadata": {},
   "outputs": [],
   "source": [
    "#OD--- boxplots- identifying outliers\n",
    "for col in od_clean.columns:\n",
    "    if pd.api.types.is_numeric_dtype(od_clean[col]):\n",
    "        sns.boxplot(x=od_clean[col])\n",
    "        sns.set_style(\"whitegrid\")\n",
    "        sns.despine(left=True)\n",
    "        plt.title(col) \n",
    "        plt.show()"
   ]
  },
  {
   "cell_type": "code",
   "execution_count": null,
   "metadata": {},
   "outputs": [],
   "source": [
    "#OS--- boxplots- identifying outliers\n",
    "for col in os_clean.columns:\n",
    "    if pd.api.types.is_numeric_dtype(os_clean[col]):\n",
    "        sns.boxplot(x=os_clean[col])\n",
    "        sns.set_style(\"whitegrid\")\n",
    "        sns.despine(left=True)\n",
    "        plt.title(col) \n",
    "        plt.show() "
   ]
  },
  {
   "cell_type": "code",
   "execution_count": 124,
   "metadata": {},
   "outputs": [
    {
     "ename": "NameError",
     "evalue": "name 'plt' is not defined",
     "output_type": "error",
     "traceback": [
      "\u001b[1;31m---------------------------------------------------------------------------\u001b[0m",
      "\u001b[1;31mNameError\u001b[0m                                 Traceback (most recent call last)",
      "Cell \u001b[1;32mIn[124], line 6\u001b[0m\n\u001b[0;32m      4\u001b[0m sns\u001b[39m.\u001b[39mset_style(\u001b[39m\"\u001b[39m\u001b[39mwhitegrid\u001b[39m\u001b[39m\"\u001b[39m)\n\u001b[0;32m      5\u001b[0m sns\u001b[39m.\u001b[39mdespine(left\u001b[39m=\u001b[39m\u001b[39mTrue\u001b[39;00m)\n\u001b[1;32m----> 6\u001b[0m plt\u001b[39m.\u001b[39mtitle(\u001b[39m'\u001b[39m\u001b[39mOS (outlier removed)\u001b[39m\u001b[39m'\u001b[39m)\n",
      "\u001b[1;31mNameError\u001b[0m: name 'plt' is not defined"
     ]
    },
    {
     "data": {
      "image/png": "[encoded data removed]",
      "text/plain": [
       "<Figure size 640x480 with 1 Axes>"
      ]
     },
     "metadata": {},
     "output_type": "display_data"
    }
   ],
   "source": [
    "#OS--- removing outliers\n",
    "os_clean = os_clean.drop(os_clean[os_clean['refractive_defect_dioptre_2'] == -75].index)\n",
    "sns.boxplot(x=os_clean['refractive_defect_dioptre_2'])\n",
    "sns.set_style(\"whitegrid\")\n",
    "sns.despine(left=True)\n",
    "plt.title('OS (outlier removed)')"
   ]
  },
  {
   "cell_type": "code",
   "execution_count": 123,
   "metadata": {},
   "outputs": [
    {
     "ename": "NameError",
     "evalue": "name 'plt' is not defined",
     "output_type": "error",
     "traceback": [
      "\u001b[1;31m---------------------------------------------------------------------------\u001b[0m",
      "\u001b[1;31mNameError\u001b[0m                                 Traceback (most recent call last)",
      "Cell \u001b[1;32mIn[123], line 6\u001b[0m\n\u001b[0;32m      4\u001b[0m sns\u001b[39m.\u001b[39mset_style(\u001b[39m\"\u001b[39m\u001b[39mwhitegrid\u001b[39m\u001b[39m\"\u001b[39m)\n\u001b[0;32m      5\u001b[0m sns\u001b[39m.\u001b[39mdespine(left\u001b[39m=\u001b[39m\u001b[39mTrue\u001b[39;00m)\n\u001b[1;32m----> 6\u001b[0m plt\u001b[39m.\u001b[39mtitle(\u001b[39m'\u001b[39m\u001b[39mOD (outlier removed)\u001b[39m\u001b[39m'\u001b[39m) \n\u001b[0;32m      7\u001b[0m plt\u001b[39m.\u001b[39mshow() \n",
      "\u001b[1;31mNameError\u001b[0m: name 'plt' is not defined"
     ]
    },
    {
     "data": {
      "image/png": "[encoded data removed]",
      "text/plain": [
       "<Figure size 640x480 with 1 Axes>"
      ]
     },
     "metadata": {},
     "output_type": "display_data"
    }
   ],
   "source": [
    "#OD--- removing outliers\n",
    "od_clean = od_clean.drop(od_clean[od_clean['refractive_defect_dioptre_2'] == -200].index)\n",
    "sns.boxplot(x=od_clean['refractive_defect_dioptre_2'])\n",
    "sns.set_style(\"whitegrid\")\n",
    "sns.despine(left=True)\n",
    "plt.title('OD (outlier removed)') \n",
    "plt.show() "
   ]
  },
  {
   "cell_type": "code",
   "execution_count": null,
   "metadata": {},
   "outputs": [],
   "source": [
    "#Filling Na's\n",
    " columns_to_fill = {\n",
    "    'refractive_defect_dioptre_1': {'fill_method': 'mean', 'round_to': 0.25},\n",
    "    'refractive_defect_dioptre_2': {'fill_method': 'mean', 'round_to': 0.25},\n",
    "    'refractive_defect_astigmatism': {'fill_method': 'mean', 'round_to': 1},\n",
    "    'phakic/pseudophakic': {'fill_method': 'mode', 'round_to': None},\n",
    "    'iop_pneumatic': {'fill_method': 'mean', 'round_to': 1},\n",
    "    'iop_perkins': {'fill_method': 'mean', 'round_to': 1},\n",
    "    'pachymetry': {'fill_method': 'mean', 'round_to': 1},\n",
    "    'axial_length': {'fill_method': 'constant', 'fill_value': 26, 'round_to': None},\n",
    "    'vf_md': {'fill_method': 'mean', 'round_to': 0.01}\n",
    "}\n",
    "#OD--- \n",
    "for col_name, col_info in columns_to_fill.items():\n",
    "    if col_info['fill_method'] == 'mean':\n",
    "        mean_val = round(od_clean[col_name].mean()/col_info['round_to'])*col_info['round_to'] \n",
    "        od_clean[col_name].fillna(mean_val, inplace=True)\n",
    "    elif col_info['fill_method'] == 'mode':\n",
    "        mode_val = od_clean[col_name].mode().iloc[0]\n",
    "        od_clean[col_name].fillna(mode_val, inplace=True)\n",
    "    elif col_info['fill_method'] == 'constant':\n",
    "        od_clean[col_name].fillna(col_info['fill_value'], inplace=True)\n",
    "    if col_info['round_to'] is not None:\n",
    "        od_clean[col_name] = round(od_clean[col_name] / col_info['round_to']) * col_info['round_to']\n",
    "#OS---\n",
    "for col_name, col_info in columns_to_fill.items():\n",
    "    if col_info['fill_method'] == 'mean':\n",
    "        mean_val = round(os_clean[col_name].mean()/col_info['round_to'])*col_info['round_to'] \n",
    "        os_clean[col_name].fillna(mean_val, inplace=True)\n",
    "    elif col_info['fill_method'] == 'mode':\n",
    "        mode_val = os_clean[col_name].mode().iloc[0]\n",
    "        os_clean[col_name].fillna(mode_val, inplace=True)\n",
    "    elif col_info['fill_method'] == 'constant':\n",
    "        os_clean[col_name].fillna(col_info['fill_value'], inplace=True)\n",
    "    if col_info['round_to'] is not None:\n",
    "        os_clean[col_name] = round(os_clean[col_name] / col_info['round_to']) * col_info"
   ]
  },
  {
   "cell_type": "code",
   "execution_count": null,
   "metadata": {},
   "outputs": [
    {
     "name": "stdout",
     "output_type": "stream",
     "text": [
      "Empty DataFrame\n",
      "Columns: [(, ID), (Age, Age), (Gender, Gender), (Diagnosis, Diagnosis), (Refractive_Defect, dioptre_1), (Refractive_Defect, dioptre_2), (Refractive_Defect, astigmatism), (Phakic/Pseudophakic, Phakic/Pseudophakic), (IOP, Pneumatic), (IOP, Perkins), (Pachymetry, Pachymetry), (Axial_Length, Axial_Length), (VF_MD, VF_MD)]\n",
      "Index: []\n",
      "Empty DataFrame\n",
      "Columns: [(, ID), (Age, Age), (Gender, Gender), (Diagnosis, Diagnosis), (Refractive_Defect, dioptre_1), (Refractive_Defect, dioptre_2), (Refractive_Defect, astigmatism), (Phakic/Pseudophakic, Phakic/Pseudophakic), (IOP, Pneumatic), (IOP, Perkins), (Pachymetry, Pachymetry), (Axial_Length, Axial_Length), (VF_MD, VF_MD)]\n",
      "Index: []\n"
     ]
    }
   ],
   "source": [
    "#Confirming no duplicates\n",
    "duplicates = od_clean.duplicated()\n",
    "print(od_clean[duplicates == True])\n",
    "duplicates = os_clean.duplicated()\n",
    "print(os_clean[duplicates == True])"
   ]
  },
  {
   "cell_type": "code",
   "execution_count": null,
   "metadata": {},
   "outputs": [],
   "source": [
    "#confirming all lower case\n",
    "od_clean['phakic/pseudophakic'] = od_clean['phakic/pseudophakic'].str.lower()\n",
    "os_clean['phakic/pseudophakic'] = os_clean['phakic/pseudophakic'].str.lower()\n",
    "od_clean['diagnosis'] = od_clean['diagnosis'].str.lower()\n",
    "os_clean['diagnosis'] = os_clean['diagnosis'].str.lower()\n",
    "od_clean['gender'] = od_clean['gender'].str.lower()\n",
    "os_clean['gender'] = os_clean['gender'].str.lower()"
   ]
  },
  {
   "cell_type": "code",
   "execution_count": null,
   "metadata": {},
   "outputs": [],
   "source": [
    "#Changing phakic/pseudophakic to actual names rather than sentences\n",
    "\n",
    "od_clean['phakic/pseudophakic'] = od_clean['phakic/pseudophakic'].replace({'crystalline lens has been removed ': 'pseudophakic', 'the eye keeps the lens':'phakic'})\n",
    "os_clean['phakic/pseudophakic'] = os_clean['phakic/pseudophakic'].replace({'crystalline lens has been removed ':'pseudophakic', 'the eye keeps the lens':'phakic'})"
   ]
  },
  {
   "attachments": {},
   "cell_type": "markdown",
   "metadata": {},
   "source": [
    "## Problem 3- Data Visualization"
   ]
  },
  {
   "cell_type": "code",
   "execution_count": null,
   "metadata": {},
   "outputs": [],
   "source": []
  }
 ],
 "metadata": {
  "kernelspec": {
   "display_name": "Python 3",
   "language": "python",
   "name": "python3"
  },
  "language_info": {
   "codemirror_mode": {
    "name": "ipython",
    "version": 3
   },
   "file_extension": ".py",
   "mimetype": "text/x-python",
   "name": "python",
   "nbconvert_exporter": "python",
   "pygments_lexer": "ipython3",
   "version": "3.10.11"
  },
  "orig_nbformat": 4,
  "vscode": {
   "interpreter": {
    "hash": "4a4a32836cfcf09d0be1b60e3fed54fd94725d7f18611df689f0a2f723a72c4a"
   }
  }
 },
 "nbformat": 4,
 "nbformat_minor": 2
}
